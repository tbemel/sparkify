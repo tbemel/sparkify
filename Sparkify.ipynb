{
 "cells": [
  {
   "cell_type": "markdown",
   "metadata": {},
   "source": [
    "# Sparkify Project Workspace\n",
    "By Thierry Bemelmans as part of my Udacity Data Science Nano Degree"
   ]
  },
  {
   "cell_type": "markdown",
   "metadata": {},
   "source": [
    "## Project Overview & Background\n",
    "This workbook was developped in the context of my Udacity Data Science Nano Degree final project \"Sparkify\". \n",
    "It aims at leveraging key learned Data Science skills and the powerful capabilities of Python & Spark to load, explore, cleanse and prepare the large \"Sparkiy\" song event dataset to engineer and tune a machine learning model to predict customer churn. \n",
    "\n",
    "<b>The Sparkify dataset</b> is anchored in the music streaming services similar to Spotify. Customers use their mobile devices or computer to browse a music libary, listen to music. They need first to register to the service, then they can either use the 'free' service tier with advertising, no offline mode and restricted use or later upgrade and subscribe to the full experience with a monthly fee. The company aims to maximise their revenue by increasing their subscriptions and also minimizing the customer \"churn\", when they cancel their account. To minimize the churn, the company would like to develop a machine learning model to predict when a customer would be likely to downgrade or cancel their registration and trigger incentivizing marketing tactics to prevent the churn.\n",
    "\n",
    "The data consists of events recorded when the user login, register, jump to different songs, upgrade, downgrade or cancel their registration.\n",
    "<br>We will start with a 12MB size small sample of the full data set to explore the data, its key features and iteratively develop our ML model. \n",
    "We will then leverage our learning to scale an optimized model to the full 12GB data set.\n"
   ]
  },
  {
   "cell_type": "markdown",
   "metadata": {},
   "source": [
    "## Problem Statement & Solutioning Strategy\n",
    "The problem to be solved is to train, test and tune a machine learning model to predict the customer at risks of 'churn' i.e. downgrading/cancelling their subscriptions so marketing strategies can optimize the subscription revenues.\n",
    "\n",
    "We will follow this overal strategy for solving the problem & develop the expected solution:\n",
    "<ol>\n",
    "<li><b>LOAD AND CLEAN DATA SET:</b> Load the datafile to a Spark dataframe, analyze its schema, discover its fields, field type/content/data quality and cleanse the data. The fields will also help us to refine our strategy by identifying the high/low value fields to focus on.\n",
    "</li><li><b>EDA - EXPLORATORY DATA ANALYSIS:</b> on churn and user behaviours linked to churn.\n",
    "</li><li><b>FEATURE ENGINEERING</b> to transform the original cleanse data set to be ready to train and test the machine learning model\n",
    "</li><li><b>MODELING & TUNING</b> by selecting the best machine learning algorithm and related parameters that maximize the model accuracy.\n",
    "</li><li><b>MAKE THE MODEL USABLE</b>\n",
    "</li><li><b>CONCLUSION</b> of the project and key findings\n",
    "</ol>\n"
   ]
  },
  {
   "cell_type": "markdown",
   "metadata": {},
   "source": [
    "## Metrics To Measure the ML Model Performance\n",
    "The ML model to develop is a typical binary classifier: is a user either likely to churn (1) or not (0)?\n",
    "Intuitively, the accuracy of a predictions vs the actual values seems to be a great way to measure our model performance.... But is it?  \n",
    "<br>It works well in a balanced data set, where the actual values are fairly well distributed between the 2 binary values. If the dataset is imbalanced between the binary options, other performance metrics will be used. For further understanding, please refer to this excellent article from Jason Brownlee on measuring performnance of skewed datasets : https://machinelearningmastery.com/failure-of-accuracy-for-imbalanced-class-distributions.\n",
    "<br><br>As we sill see in our analysis, our dataset has 77% of the users not churning vs 23% churning... therefore a model returning all users as NOT churning would already have accuracy of 77%, but would be totally useless. \n",
    "<br>Therefore we will use the F1-Score to measure this skewed binary classification, it combines both \"Precision\" and \"Recall\" measures. For further details on the F1 Score calculation, see this great article from deepai.org: https://deepai.org/machine-learning-glossary-and-terms/f-score with the following definitions:\n",
    "- <i>\"<b>Precision</b> is the fraction of true positive examples among the examples that the model classified as positive. In other words, the number of true positives divided by the number of false positives plus true positives.\"</i>\n",
    "- <i>\"<b>Recall</b>, also known as sensitivity, is the fraction of examples classified as positive, among the total number of positive examples. In other words, the number of true positives divided by the number of true positives plus false negatives.\"</i>"
   ]
  },
  {
   "cell_type": "markdown",
   "metadata": {},
   "source": [
    "## Technical Set Up\n",
    "I leveraged the AWS Glue Spark 3.1 Docker container on my laptop to fast-track this development. I found it extremelly useful to iteratively develop Spark Python code with a Jupyter notebook directly on my laptop. I already used the same approach at work, learning the trick from AWS. See this blog on how to set up your own machine. \n",
    "https://aws.amazon.com/blogs/big-data/develop-and-test-aws-glue-version-3-0-jobs-locally-using-a-docker-container/\n",
    "<br><br>The same notebook code was also tested on the Udacity virtual machine that uses Spark version 2.4."
   ]
  },
  {
   "cell_type": "markdown",
   "metadata": {},
   "source": [
    "# 1.Load and Clean Dataset\n",
    "In this workspace, the mini-dataset file is `mini_sparkify_event_data.json`. Load and clean the dataset, checking for invalid or missing data - for example, records without userids or sessionids. "
   ]
  },
  {
   "cell_type": "code",
   "execution_count": 1,
   "metadata": {},
   "outputs": [],
   "source": [
    "# import libraries\n",
    "from pyspark.sql import SparkSession\n",
    "from pyspark.sql.functions import avg, col, concat,count, desc, explode, lit, min, max, split, stddev, udf\n",
    "from pyspark.sql.types import IntegerType\n",
    "from pyspark.sql import Window\n",
    "from pyspark.sql import functions as F\n",
    "from pyspark.ml import Pipeline\n",
    "from pyspark.ml.classification import LogisticRegression\n",
    "from pyspark.ml.classification import LinearSVC\n",
    "from pyspark.ml.classification import DecisionTreeClassifier\n",
    "from pyspark.ml.classification import GBTClassifier\n",
    "from pyspark.ml.classification import RandomForestClassifier\n",
    "from pyspark.ml.evaluation import MulticlassClassificationEvaluator\n",
    "from pyspark.ml.evaluation import BinaryClassificationEvaluator\n",
    "from pyspark.ml.feature import CountVectorizer, IDF, Normalizer, PCA, RegexTokenizer, StandardScaler, StopWordsRemover, StringIndexer, VectorAssembler\n",
    "from pyspark.ml.regression import LinearRegression\n",
    "from pyspark.ml.tuning import CrossValidator, ParamGridBuilder\n",
    "\n",
    "from pyspark import sql\n",
    "import time\n",
    "import re\n",
    "import numpy as np\n",
    "import pandas as pd\n",
    "import matplotlib.pyplot as plt"
   ]
  },
  {
   "cell_type": "code",
   "execution_count": 2,
   "metadata": {},
   "outputs": [
    {
     "name": "stdout",
     "output_type": "stream",
     "text": [
      "PySpark Version :3.1.1-amzn-0\n"
     ]
    }
   ],
   "source": [
    "# create a Spark session\n",
    "spark = SparkSession.builder \\\n",
    "    .master(\"local\") \\\n",
    "    .appName(\"Creating Features\") \\\n",
    "    .getOrCreate()\n",
    "\n",
    "print('PySpark Version :' + spark.version)"
   ]
  },
  {
   "cell_type": "code",
   "execution_count": 3,
   "metadata": {},
   "outputs": [
    {
     "data": {
      "text/plain": [
       "DataFrame[artist: string, auth: string, firstName: string, gender: string, itemInSession: bigint, lastName: string, length: double, level: string, location: string, method: string, page: string, registration: bigint, sessionId: bigint, song: string, status: bigint, ts: bigint, userAgent: string, userId: string]"
      ]
     },
     "execution_count": 3,
     "metadata": {},
     "output_type": "execute_result"
    }
   ],
   "source": [
    "filePath = 'mini_sparkify_event_data.json'\n",
    "df = spark.read.json(filePath)\n",
    "df.createOrReplaceTempView(\"event_table\")\n",
    "df.persist()"
   ]
  },
  {
   "cell_type": "markdown",
   "metadata": {},
   "source": [
    "Lets understand Data Fields, Data Types, Stats, Data Quality"
   ]
  },
  {
   "cell_type": "code",
   "execution_count": 4,
   "metadata": {},
   "outputs": [
    {
     "name": "stdout",
     "output_type": "stream",
     "text": [
      "Data Frame Shape: 286500 rows, 18 fields\n"
     ]
    }
   ],
   "source": [
    "# Data Shape\n",
    "print(f'Data Frame Shape: {df.count()} rows, {len(df.columns)} fields')"
   ]
  },
  {
   "cell_type": "code",
   "execution_count": 5,
   "metadata": {},
   "outputs": [
    {
     "name": "stdout",
     "output_type": "stream",
     "text": [
      "root\n",
      " |-- artist: string (nullable = true)\n",
      " |-- auth: string (nullable = true)\n",
      " |-- firstName: string (nullable = true)\n",
      " |-- gender: string (nullable = true)\n",
      " |-- itemInSession: long (nullable = true)\n",
      " |-- lastName: string (nullable = true)\n",
      " |-- length: double (nullable = true)\n",
      " |-- level: string (nullable = true)\n",
      " |-- location: string (nullable = true)\n",
      " |-- method: string (nullable = true)\n",
      " |-- page: string (nullable = true)\n",
      " |-- registration: long (nullable = true)\n",
      " |-- sessionId: long (nullable = true)\n",
      " |-- song: string (nullable = true)\n",
      " |-- status: long (nullable = true)\n",
      " |-- ts: long (nullable = true)\n",
      " |-- userAgent: string (nullable = true)\n",
      " |-- userId: string (nullable = true)\n",
      "\n",
      "None\n"
     ]
    }
   ],
   "source": [
    "# Fields & data types\n",
    "print(df.printSchema())"
   ]
  },
  {
   "cell_type": "code",
   "execution_count": 6,
   "metadata": {},
   "outputs": [
    {
     "name": "stdout",
     "output_type": "stream",
     "text": [
      "+----------------+---------+---------+------+-------------+--------+---------+-----+--------------------+------+--------+-------------+---------+--------------------+------+-------------+--------------------+------+\n",
      "|          artist|     auth|firstName|gender|itemInSession|lastName|   length|level|            location|method|    page| registration|sessionId|                song|status|           ts|           userAgent|userId|\n",
      "+----------------+---------+---------+------+-------------+--------+---------+-----+--------------------+------+--------+-------------+---------+--------------------+------+-------------+--------------------+------+\n",
      "|  Martha Tilston|Logged In|    Colin|     M|           50| Freeman|277.89016| paid|     Bakersfield, CA|   PUT|NextSong|1538173362000|       29|           Rockpools|   200|1538352117000|Mozilla/5.0 (Wind...|    30|\n",
      "|Five Iron Frenzy|Logged In|    Micah|     M|           79|    Long|236.09424| free|Boston-Cambridge-...|   PUT|NextSong|1538331630000|        8|              Canada|   200|1538352180000|\"Mozilla/5.0 (Win...|     9|\n",
      "|    Adam Lambert|Logged In|    Colin|     M|           51| Freeman| 282.8273| paid|     Bakersfield, CA|   PUT|NextSong|1538173362000|       29|   Time For Miracles|   200|1538352394000|Mozilla/5.0 (Wind...|    30|\n",
      "|          Enigma|Logged In|    Micah|     M|           80|    Long|262.71302| free|Boston-Cambridge-...|   PUT|NextSong|1538331630000|        8|Knocking On Forbi...|   200|1538352416000|\"Mozilla/5.0 (Win...|     9|\n",
      "|       Daft Punk|Logged In|    Colin|     M|           52| Freeman|223.60771| paid|     Bakersfield, CA|   PUT|NextSong|1538173362000|       29|Harder Better Fas...|   200|1538352676000|Mozilla/5.0 (Wind...|    30|\n",
      "+----------------+---------+---------+------+-------------+--------+---------+-----+--------------------+------+--------+-------------+---------+--------------------+------+-------------+--------------------+------+\n",
      "only showing top 5 rows\n",
      "\n",
      "None\n"
     ]
    }
   ],
   "source": [
    "# Show me first rows to better grasp the data\n",
    "print(df.show(n=5))"
   ]
  },
  {
   "cell_type": "code",
   "execution_count": 7,
   "metadata": {
    "scrolled": true
   },
   "outputs": [
    {
     "name": "stdout",
     "output_type": "stream",
     "text": [
      "Total rows: 286500\n",
      "For each field, count of either None or Null or blanks\n",
      "+------+----+---------+------+-------------+--------+------+-----+--------+------+----+------------+---------+-----+------+---+---------+------+\n",
      "|artist|auth|firstName|gender|itemInSession|lastName|length|level|location|method|page|registration|sessionId| song|status| ts|userAgent|userId|\n",
      "+------+----+---------+------+-------------+--------+------+-----+--------+------+----+------------+---------+-----+------+---+---------+------+\n",
      "| 58392|   0|     8346|  8346|            0|    8346| 58392|    0|    8346|     0|   0|        8346|        0|58392|     0|  0|     8346|  8346|\n",
      "+------+----+---------+------+-------------+--------+------+-----+--------+------+----+------------+---------+-----+------+---+---------+------+\n",
      "\n",
      "None\n"
     ]
    }
   ],
   "source": [
    "# Check for N/A or nulls\n",
    "from pyspark.sql.functions import col,isnan,when,count\n",
    "rows_count = df.count()\n",
    "print(f'Total rows: {rows_count}')\n",
    "print('For each field, count of either None or Null or blanks')\n",
    "df2 = df.select([count(when((col(c) == '' )|(col(c).isNull()), c)).alias(c) for c in df.columns])\n",
    "print(df2.show())"
   ]
  },
  {
   "cell_type": "markdown",
   "metadata": {},
   "source": [
    "### Data Cleansing\n",
    "We will now look at rows with null values in the userId and evaluate how many of them we have. \n",
    "<br>If makes sense, we will remove them them to cleanse the data."
   ]
  },
  {
   "cell_type": "code",
   "execution_count": 8,
   "metadata": {},
   "outputs": [
    {
     "name": "stdout",
     "output_type": "stream",
     "text": [
      "+-------------------+-----+\n",
      "|               page|count|\n",
      "+-------------------+-----+\n",
      "|              Error|    6|\n",
      "|               Help|  272|\n",
      "|               Home| 4375|\n",
      "|              About|  429|\n",
      "|Submit Registration|    5|\n",
      "|              Login| 3241|\n",
      "|           Register|   18|\n",
      "+-------------------+-----+\n",
      "\n"
     ]
    }
   ],
   "source": [
    "# Check which page(s) have null for user ID\n",
    "df2 = df.filter((df.userId.isNull())| (df.userId == \"\")).groupBy(\"page\").count().show()"
   ]
  },
  {
   "cell_type": "markdown",
   "metadata": {},
   "source": [
    "The pages without userID are the ones when non-yet-registered or not-yet-logged-in users land on the portal. Those events & pages would not be useful for our ML analysis on the user churn as missing the userId. Therefore we will drop those rows as we will segregate users that churn or not and the userId field must be filled for it. "
   ]
  },
  {
   "cell_type": "code",
   "execution_count": 9,
   "metadata": {},
   "outputs": [
    {
     "name": "stdout",
     "output_type": "stream",
     "text": [
      "8346 rows (2.9)% found with null userID out of 286500 rows cleansed\n"
     ]
    }
   ],
   "source": [
    "# remove rows with null or blan user ID\n",
    "count_prior_removal = df.count()\n",
    "df = df.filter((df.userId.isNotNull())&(df.userId != \"\"))\n",
    "count_removed = count_prior_removal - df.count()\n",
    "dropPercentage = 100* count_removed / count_prior_removal\n",
    "print(f'{count_removed} rows ({dropPercentage:1.1f})% found with null userID out of {count_prior_removal} rows cleansed')\n",
    "df.createOrReplaceTempView('event_table_clean')"
   ]
  },
  {
   "cell_type": "code",
   "execution_count": 10,
   "metadata": {},
   "outputs": [
    {
     "name": "stdout",
     "output_type": "stream",
     "text": [
      "Total row count: 278154 Total unique rows: 278154\n"
     ]
    }
   ],
   "source": [
    "# now check if duplicated rows in our dataset\n",
    "print(f'Total row count: {df.count()} Total unique rows: {df.drop_duplicates().count()}')"
   ]
  },
  {
   "cell_type": "markdown",
   "metadata": {},
   "source": [
    "That is great, no duplication as both row count matches."
   ]
  },
  {
   "cell_type": "markdown",
   "metadata": {},
   "source": [
    "# 2.EDA - Exploratory Data Analysis\n",
    "Loading a small data set sample, the hereunder EDA - Exploratory Data Analysis will do basic data manipulations within Spark, to understand the different fields, analyse and and visualize their content to get further insights on how they should be used for either the ML outcome or features preparation & modeling.\n",
    "\n",
    "<br><b>Define Churn</b>: a column `churn` will be used as a binary label for our model. The `Cancellation Confirmation` events to define our churn, which happen for both paid and free users. The `Downgrade` events could also be modeled in a next phase as a ML classifications with  multiple labels problem vs just binary.  For the sake of time, we will focus on the binary problem.\n",
    "\n",
    "<br><b>Explore Data</b>:Once the 'churn' has been defined, exploratory data analysis will be performed to observe the behavior for users who stayed vs users who churned, aggregates on these two groups of users, observing how much of a specific action they experienced per a certain time unit or number of songs played."
   ]
  },
  {
   "cell_type": "markdown",
   "metadata": {},
   "source": [
    "### Analyse key fields, number of distinct values and for smaller sets, list the values found."
   ]
  },
  {
   "cell_type": "code",
   "execution_count": 11,
   "metadata": {},
   "outputs": [
    {
     "name": "stdout",
     "output_type": "stream",
     "text": [
      "artist\t17655\t \n",
      "auth\t2\t ['Cancelled', 'Logged In']\n",
      "firstName\t189\t \n",
      "gender\t2\t ['M', 'F']\n",
      "itemInSession\t1311\t \n",
      "lastName\t173\t \n",
      "length\t14865\t \n",
      "level\t2\t ['free', 'paid']\n",
      "location\t114\t \n",
      "method\t2\t ['GET', 'PUT']\n",
      "page\t19\t ['Downgrade', 'Save Settings', 'Error', 'Add to Playlist', 'Help', 'Submit Upgrade', 'Cancel', 'Submit Downgrade', 'Thumbs Down', 'Home', 'Roll Advert', 'About', 'Upgrade', 'Cancellation Confirmation', 'NextSong', 'Thumbs Up', 'Logout', 'Settings', 'Add Friend']\n",
      "registration\t225\t \n",
      "sessionId\t2312\t \n",
      "song\t58480\t \n",
      "status\t3\t [200, 404, 307]\n",
      "ts\t269770\t \n",
      "userAgent\t56\t \n",
      "userId\t225\t \n"
     ]
    }
   ],
   "source": [
    "# Check each fields: Count distinct values per field\n",
    "# to identify categorical columns & if list of distinct value < 30, show the list of distinct values\n",
    "from pyspark.sql.functions import countDistinct\n",
    "for col in df.columns:\n",
    "    uniqueValues = df.select(countDistinct(col)).collect()[0][0]\n",
    "    # get list of values if small set (<30)\n",
    "    if uniqueValues < 30:\n",
    "        listOfValues = df.select(col).distinct().rdd.flatMap(lambda x: x).collect()\n",
    "    else:\n",
    "        listOfValues = ''\n",
    "    print(f'{col}\\t{uniqueValues}\\t {listOfValues}')"
   ]
  },
  {
   "cell_type": "markdown",
   "metadata": {},
   "source": [
    "### Fields Insights from observed values:\n",
    "<lt><li>Fields with categorical values</b>: auth, gender, level, method, page, status.\n",
    "</li><li><b>The field</b> \"page\" </b>seems very interesting, to tell us about the user flow / sequence of events when using the service.\n",
    "</li><li><b>Fields for outcome analytics</b> : level, page if 'Submit Downgrade', ' Downgrade', 'Cancellation Confirmation', 'Submit Upgrade'\n",
    "</li><li><b>Fields for features</b>: will need further deepdive on the data.\n",
    "</li></lt>"
   ]
  },
  {
   "cell_type": "markdown",
   "metadata": {},
   "source": [
    "### Events per page"
   ]
  },
  {
   "cell_type": "code",
   "execution_count": 12,
   "metadata": {},
   "outputs": [
    {
     "name": "stdout",
     "output_type": "stream",
     "text": [
      "+--------------------+------+\n",
      "|                page| count|\n",
      "+--------------------+------+\n",
      "|Cancellation Conf...|    52|\n",
      "|              Cancel|    52|\n",
      "|    Submit Downgrade|    63|\n",
      "|      Submit Upgrade|   159|\n",
      "|               Error|   252|\n",
      "|       Save Settings|   310|\n",
      "|               About|   495|\n",
      "|             Upgrade|   499|\n",
      "|                Help|  1454|\n",
      "|            Settings|  1514|\n",
      "|           Downgrade|  2055|\n",
      "|         Thumbs Down|  2546|\n",
      "|              Logout|  3226|\n",
      "|         Roll Advert|  3933|\n",
      "|          Add Friend|  4277|\n",
      "|     Add to Playlist|  6526|\n",
      "|                Home| 10082|\n",
      "|           Thumbs Up| 12551|\n",
      "|            NextSong|228108|\n",
      "+--------------------+------+\n",
      "\n",
      "None\n"
     ]
    },
    {
     "data": {
      "image/png": "[encoded data removed]",
      "text/plain": [
       "<Figure size 1008x576 with 1 Axes>"
      ]
     },
     "metadata": {
      "needs_background": "light"
     },
     "output_type": "display_data"
    }
   ],
   "source": [
    "# distribution of events per page / per user\n",
    "# what type of page have no registration?\n",
    "df4 = spark.sql(\"select page, count(*) as count from event_table_clean group by page order by count(*)\")\n",
    "print(df4.show(n=30))\n",
    "df_panda = df4.toPandas()\n",
    "# visualize now\n",
    "# Matplotlib documentation on https://pandas.pydata.org/docs/reference/api/pandas.DataFrame.plot.barh.html#:~:text=A%20horizontal%20bar%20plot%20is,axis%20represents%20a%20measured%20value.\n",
    "fig, ax = plt.subplots(figsize=(14, 8))\n",
    "df_panda.plot.barh(x='page', y='count', ax=ax)\n",
    "\n",
    "# add label of value, see doc https://matplotlib.org/stable/api/_as_gen/matplotlib.pyplot.text.html\n",
    "for idx, value in enumerate(df_panda['count']):\n",
    "    plt.text(value, idx, value)\n",
    "\n",
    "plt.title('Count of events per \"page\" value')\n",
    "plt.show()\n"
   ]
  },
  {
   "cell_type": "markdown",
   "metadata": {},
   "source": [
    "Insights on page: the 'Next sond' is the most frequent event, 'cancellation confirmation' is relatively very small. Other interesting events could be used also in the churn prediction, like \"Thumbs Up\", \"Add to playlist\", \"Submit Downgrade\", ..."
   ]
  },
  {
   "cell_type": "markdown",
   "metadata": {},
   "source": [
    "## How to define our desired outomes for the model: user churn?\n",
    "Our business objective is to detect users that are more likely to leave the service, i.e. to churn vs not churn. This is a binary classification problem. The model should give us the probability of each user at a given time, given their history to be part of the users who churn or not.\n",
    "<br><br>We will first look at how many users we have in total and how many of them got\n",
    "<lt><li>\"downgraded\": have an event with the field 'page' = 'Submit Downgrade'\n",
    "</li><li>\"churn\": have an event with the field 'page' = 'Cancellation Confirmation'\n",
    "</li></lt>"
   ]
  },
  {
   "cell_type": "code",
   "execution_count": 13,
   "metadata": {},
   "outputs": [
    {
     "name": "stdout",
     "output_type": "stream",
     "text": [
      "Downgraded user count:\t49\n",
      "Cancelled user count:\t52\n",
      "All user count:\t225\n"
     ]
    }
   ],
   "source": [
    "downgrade_user_list = df.filter(\"page = 'Submit Downgrade'\").select('userId').distinct().rdd.flatMap(lambda x: x).collect()\n",
    "cancel_user_list = df.filter(\"page = 'Cancellation Confirmation'\").select('userId').distinct().rdd.flatMap(lambda x: x).collect()\n",
    "all_user_list = df.select('userId').distinct().rdd.flatMap(lambda x: x).collect()\n",
    "\n",
    "print(f'Downgraded user count:\\t{len(downgrade_user_list)}')\n",
    "print(f'Cancelled user count:\\t{len(cancel_user_list)}')\n",
    "print(f'All user count:\\t{len(all_user_list)}')"
   ]
  },
  {
   "cell_type": "code",
   "execution_count": 14,
   "metadata": {},
   "outputs": [
    {
     "name": "stdout",
     "output_type": "stream",
     "text": [
      "+--------------------+-----+----------+-------------+\n",
      "|                page|churn|churn_user|           ts|\n",
      "+--------------------+-----+----------+-------------+\n",
      "|Cancellation Conf...|    1|         1|1539761972000|\n",
      "|              Cancel|    0|         1|1539761830000|\n",
      "|            Settings|    0|         1|1539761829000|\n",
      "|            NextSong|    0|         1|1539761726000|\n",
      "|            NextSong|    0|         1|1539761508000|\n",
      "|            NextSong|    0|         1|1539761269000|\n",
      "|            NextSong|    0|         1|1539761030000|\n",
      "|            NextSong|    0|         1|1539760849000|\n",
      "|            NextSong|    0|         1|1539760549000|\n",
      "|            NextSong|    0|         1|1539760052000|\n",
      "|            NextSong|    0|         1|1539759811000|\n",
      "|            NextSong|    0|         1|1539759645000|\n",
      "|            NextSong|    0|         1|1539759362000|\n",
      "|           Thumbs Up|    0|         1|1539759213000|\n",
      "|            NextSong|    0|         1|1539759212000|\n",
      "|            NextSong|    0|         1|1539759000000|\n",
      "|            NextSong|    0|         1|1539758750000|\n",
      "|            NextSong|    0|         1|1539758573000|\n",
      "|            NextSong|    0|         1|1539758314000|\n",
      "|            NextSong|    0|         1|1539757983000|\n",
      "+--------------------+-----+----------+-------------+\n",
      "only showing top 20 rows\n",
      "\n",
      "None\n"
     ]
    }
   ],
   "source": [
    "# put 1 for all users with churn at least once and 0 if no churn. to use as outcome label for the ML classification.\n",
    "isChurn = udf(lambda x: 1 if x == 'Cancellation Confirmation' else 0, IntegerType())\n",
    "df = df.withColumn('churn', isChurn(df['page']))\n",
    "window = Window.partitionBy(\"UserId\")\n",
    "df = df.withColumn('churn_user', max(df['churn']).over(window))\n",
    "print(df.where(df['userId'] == 51).select('page','churn', 'churn_user', 'ts').orderBy(df['ts'].desc()).show())\n",
    "df.createOrReplaceTempView('event_table_clean')"
   ]
  },
  {
   "cell_type": "markdown",
   "metadata": {},
   "source": [
    "## Quick exploration/ visualization of the key data fields"
   ]
  },
  {
   "cell_type": "markdown",
   "metadata": {},
   "source": [
    "### Events per gender & level"
   ]
  },
  {
   "cell_type": "code",
   "execution_count": 15,
   "metadata": {},
   "outputs": [
    {
     "name": "stdout",
     "output_type": "stream",
     "text": [
      "+------+------+\n",
      "|gender| count|\n",
      "+------+------+\n",
      "|     M|123576|\n",
      "|     F|154578|\n",
      "+------+------+\n",
      "\n",
      "None\n",
      "+-----+------+\n",
      "|level| count|\n",
      "+-----+------+\n",
      "| free| 55721|\n",
      "| paid|222433|\n",
      "+-----+------+\n",
      "\n",
      "None\n"
     ]
    },
    {
     "data": {
      "image/png": "[encoded data removed]",
      "text/plain": [
       "<Figure size 720x360 with 2 Axes>"
      ]
     },
     "metadata": {},
     "output_type": "display_data"
    }
   ],
   "source": [
    "# distribution of events per gender\n",
    "df_gender = spark.sql(\"select gender, count(*) as count from event_table_clean group by gender order by count(*)\")\n",
    "df_level = spark.sql(\"select level, count(*) as count from event_table_clean group by level order by count(*)\")\n",
    "print(df_gender.show(n=30))\n",
    "print(df_level.show(n=30))\n",
    "\n",
    "# visualize now\n",
    "# Matplotlib documentation on https://pandas.pydata.org/docs/reference/api/pandas.DataFrame.plot.barh.html#:~:text=A%20horizontal%20bar%20plot%20is,axis%20represents%20a%20measured%20value.\n",
    "fig, ax = plt.subplots(nrows=1, ncols=2, figsize =(10, 5))\n",
    "\n",
    "# left chart\n",
    "df_gender_panda = df_gender.toPandas()\n",
    "my_color = [ 'tab:blue', 'tab:pink']\n",
    "ax[0].pie(df_gender_panda['count'], labels = df_gender_panda['gender'], colors=my_color,  autopct='%.1f%%')\n",
    "ax[0].title.set_text('Count of events per \"Gender\" value')\n",
    "\n",
    "# Right chart\n",
    "# Axes.barh(y, width, height=0.8, left=None, *, align='center', data=None, **kwargs)\n",
    "df_level_panda = df_level.toPandas()\n",
    "my_color = [ 'tab:red', 'tab:green']\n",
    "ax[1].pie(df_level_panda['count'], labels = df_level_panda['level'], colors=my_color,  autopct='%.1f%%')\n",
    "ax[1].title.set_text('Count of events per Level Free/Paid')\n",
    "\n",
    "plt.show()"
   ]
  },
  {
   "cell_type": "markdown",
   "metadata": {},
   "source": [
    "### Artists and Songs Analysis"
   ]
  },
  {
   "cell_type": "code",
   "execution_count": 16,
   "metadata": {},
   "outputs": [
    {
     "name": "stdout",
     "output_type": "stream",
     "text": [
      "17656 artists\t58481 songs\tAverage songs/artist: 3.3\n"
     ]
    }
   ],
   "source": [
    "# count of artists and songs\n",
    "artist_count = df.select('artist').drop_duplicates().count()\n",
    "song_count = df.select('song').drop_duplicates().count()\n",
    "print(f'{artist_count} artists\\t{song_count} songs\\tAverage songs/artist: {song_count / artist_count:1.1f}')"
   ]
  },
  {
   "cell_type": "code",
   "execution_count": 17,
   "metadata": {},
   "outputs": [
    {
     "name": "stdout",
     "output_type": "stream",
     "text": [
      "+--------------------+-----+\n",
      "|              artist|count|\n",
      "+--------------------+-----+\n",
      "|       Kings Of Leon| 1841|\n",
      "|            Coldplay| 1813|\n",
      "|Florence + The Ma...| 1236|\n",
      "|       Dwight Yoakam| 1135|\n",
      "|            BjÃÂ¶rk| 1133|\n",
      "|      The Black Keys| 1125|\n",
      "|                Muse| 1090|\n",
      "|       Justin Bieber| 1044|\n",
      "|        Jack Johnson| 1007|\n",
      "|              Eminem|  953|\n",
      "+--------------------+-----+\n",
      "only showing top 10 rows\n",
      "\n"
     ]
    }
   ],
   "source": [
    "# count of most played artist\n",
    "df1 = df.where(df[\"page\"] ==  \"NextSong\").groupBy(\"artist\").count()\n",
    "df1.sort(df1[\"count\"].desc()).show(n=10)"
   ]
  },
  {
   "cell_type": "code",
   "execution_count": 18,
   "metadata": {},
   "outputs": [
    {
     "name": "stdout",
     "output_type": "stream",
     "text": [
      "+--------------------+--------------------+-----+\n",
      "|              artist|                song|count|\n",
      "+--------------------+--------------------+-----+\n",
      "|       Dwight Yoakam|      You're The One| 1122|\n",
      "|            BjÃÂ¶rk|                Undo| 1026|\n",
      "|       Kings Of Leon|             Revelry|  854|\n",
      "|            Harmonia|       Sehr kosmisch|  728|\n",
      "|Barry Tuckwell/Ac...|Horn Concerto No....|  641|\n",
      "|Florence + The Ma...|Dog Days Are Over...|  574|\n",
      "|         OneRepublic|             Secrets|  463|\n",
      "|       Kings Of Leon|        Use Somebody|  459|\n",
      "|    Five Iron Frenzy|              Canada|  434|\n",
      "|            Tub Ring|             Invalid|  424|\n",
      "+--------------------+--------------------+-----+\n",
      "only showing top 10 rows\n",
      "\n"
     ]
    }
   ],
   "source": [
    "# Top 10 songs and artist played\n",
    "df1 = df.where(df[\"page\"] ==  \"NextSong\").groupBy(\"artist\", \"song\").count()\n",
    "df1.sort(df1[\"count\"].desc()).show(n=10)"
   ]
  },
  {
   "cell_type": "markdown",
   "metadata": {},
   "source": [
    "### Geolocation Analysis & Data Preparation"
   ]
  },
  {
   "cell_type": "code",
   "execution_count": 19,
   "metadata": {},
   "outputs": [
    {
     "name": "stdout",
     "output_type": "stream",
     "text": [
      "+-------------------------------------------+-----+\n",
      "|location                                   |count|\n",
      "+-------------------------------------------+-----+\n",
      "|Los Angeles-Long Beach-Anaheim, CA         |30131|\n",
      "|New York-Newark-Jersey City, NY-NJ-PA      |23684|\n",
      "|Boston-Cambridge-Newton, MA-NH             |13873|\n",
      "|Houston-The Woodlands-Sugar Land, TX       |9499 |\n",
      "|Charlotte-Concord-Gastonia, NC-SC          |7780 |\n",
      "|Dallas-Fort Worth-Arlington, TX            |7605 |\n",
      "|Louisville/Jefferson County, KY-IN         |6880 |\n",
      "|Philadelphia-Camden-Wilmington, PA-NJ-DE-MD|5890 |\n",
      "|Chicago-Naperville-Elgin, IL-IN-WI         |5114 |\n",
      "|St. Louis, MO-IL                           |4858 |\n",
      "+-------------------------------------------+-----+\n",
      "only showing top 10 rows\n",
      "\n"
     ]
    }
   ],
   "source": [
    "# show me the top 10 locations to better grasp the data\n",
    "df4 = df.groupBy(\"location\").count()\n",
    "df4.sort(df4['count'].desc()).show(n=10, truncate=False)"
   ]
  },
  {
   "cell_type": "markdown",
   "metadata": {},
   "source": [
    "Location seems to follow the pattern \"city, state\" for the USA country. We will split those data into 2 fields to better mine the geolocation"
   ]
  },
  {
   "cell_type": "code",
   "execution_count": 20,
   "metadata": {},
   "outputs": [
    {
     "name": "stdout",
     "output_type": "stream",
     "text": [
      "+------------------------------+-----------------------+-----+\n",
      "|location                      |city                   |state|\n",
      "+------------------------------+-----------------------+-----+\n",
      "|Bakersfield, CA               |Bakersfield            |CA   |\n",
      "|Boston-Cambridge-Newton, MA-NH|Boston-Cambridge-Newton|MA-NH|\n",
      "|Bakersfield, CA               |Bakersfield            |CA   |\n",
      "|Boston-Cambridge-Newton, MA-NH|Boston-Cambridge-Newton|MA-NH|\n",
      "+------------------------------+-----------------------+-----+\n",
      "only showing top 4 rows\n",
      "\n",
      "None\n",
      "+--------+-----+\n",
      "|   state|count|\n",
      "+--------+-----+\n",
      "|      OR|   23|\n",
      "|TN-MS-AR|   62|\n",
      "|OH-KY-IN|   88|\n",
      "|   OR-WA|  119|\n",
      "|   NE-IA|  187|\n",
      "|   VA-NC|  246|\n",
      "|   UT-ID|  317|\n",
      "|      AR|  520|\n",
      "|      IA|  651|\n",
      "|      SC|  668|\n",
      "+--------+-----+\n",
      "only showing top 10 rows\n",
      "\n"
     ]
    }
   ],
   "source": [
    "# lets split the location in city and state\n",
    "df = df. withColumn('state', split('location', ', ')[1]).withColumn('city', split('location', ', ')[0])\n",
    "print(df.select('location', 'city', 'state').show(n=4, truncate=False))\n",
    "# What are the top states?\n",
    "df.groupby('state').count().orderBy('count').show(n=10)"
   ]
  },
  {
   "cell_type": "markdown",
   "metadata": {},
   "source": [
    "### Time Series analysis\n",
    "This section evaluate if the hour, day of the week, month, year of the event could play a role in the data"
   ]
  },
  {
   "cell_type": "code",
   "execution_count": 21,
   "metadata": {},
   "outputs": [
    {
     "name": "stdout",
     "output_type": "stream",
     "text": [
      "+-------------+----------------+-------------+-------+---------------+--------------+--------+-------+-------------+\n",
      "|           ts|    ts_timestamp|ts_yyyy_mm_dd|ts_hour|ts_day_of_month|ts_day_of_week|ts_month|ts_year|ts_year_month|\n",
      "+-------------+----------------+-------------+-------+---------------+--------------+--------+-------+-------------+\n",
      "|1538352117000|2018-10-01 12:01|   2018-10-01|     00|             01|           Mon|      10|   2018|      2018-10|\n",
      "|1538352180000|2018-10-01 12:03|   2018-10-01|     00|             01|           Mon|      10|   2018|      2018-10|\n",
      "|1538352394000|2018-10-01 12:06|   2018-10-01|     00|             01|           Mon|      10|   2018|      2018-10|\n",
      "|1538352416000|2018-10-01 12:06|   2018-10-01|     00|             01|           Mon|      10|   2018|      2018-10|\n",
      "|1538352676000|2018-10-01 12:11|   2018-10-01|     00|             01|           Mon|      10|   2018|      2018-10|\n",
      "|1538352678000|2018-10-01 12:11|   2018-10-01|     00|             01|           Mon|      10|   2018|      2018-10|\n",
      "|1538352886000|2018-10-01 12:14|   2018-10-01|     00|             01|           Mon|      10|   2018|      2018-10|\n",
      "|1538352899000|2018-10-01 12:14|   2018-10-01|     00|             01|           Mon|      10|   2018|      2018-10|\n",
      "|1538352905000|2018-10-01 12:15|   2018-10-01|     00|             01|           Mon|      10|   2018|      2018-10|\n",
      "|1538353084000|2018-10-01 12:18|   2018-10-01|     00|             01|           Mon|      10|   2018|      2018-10|\n",
      "|1538353146000|2018-10-01 12:19|   2018-10-01|     00|             01|           Mon|      10|   2018|      2018-10|\n",
      "|1538353150000|2018-10-01 12:19|   2018-10-01|     00|             01|           Mon|      10|   2018|      2018-10|\n",
      "|1538353218000|2018-10-01 12:20|   2018-10-01|     00|             01|           Mon|      10|   2018|      2018-10|\n",
      "|1538353375000|2018-10-01 12:22|   2018-10-01|     00|             01|           Mon|      10|   2018|      2018-10|\n",
      "|1538353376000|2018-10-01 12:22|   2018-10-01|     00|             01|           Mon|      10|   2018|      2018-10|\n",
      "|1538353441000|2018-10-01 12:24|   2018-10-01|     00|             01|           Mon|      10|   2018|      2018-10|\n",
      "|1538353576000|2018-10-01 12:26|   2018-10-01|     00|             01|           Mon|      10|   2018|      2018-10|\n",
      "|1538353668000|2018-10-01 12:27|   2018-10-01|     00|             01|           Mon|      10|   2018|      2018-10|\n",
      "|1538353687000|2018-10-01 12:28|   2018-10-01|     00|             01|           Mon|      10|   2018|      2018-10|\n",
      "|1538353744000|2018-10-01 12:29|   2018-10-01|     00|             01|           Mon|      10|   2018|      2018-10|\n",
      "+-------------+----------------+-------------+-------+---------------+--------------+--------+-------+-------------+\n",
      "only showing top 20 rows\n",
      "\n"
     ]
    }
   ],
   "source": [
    "from pyspark.sql.functions import date_format, to_date\n",
    "from pyspark.sql.types import TimestampType\n",
    "# ts is in epoc format milliseconds => /1000 to convert to seconds\n",
    "df = df.withColumn('ts_timestamp', date_format((df.ts / 1000).cast(dataType=TimestampType()), 'yyyy-MM-dd hh:mm'))\n",
    "df = df.withColumn('ts_yyyy_mm_dd', date_format((df.ts / 1000).cast(dataType=TimestampType()), 'yyyy-MM-dd'))\n",
    "# hh is 12h format, HH is 24 hour format\n",
    "df = df.withColumn('ts_hour', date_format((df.ts / 1000).cast(dataType=TimestampType()), 'HH'))\n",
    "df = df.withColumn('ts_day_of_month', date_format((df.ts / 1000).cast(dataType=TimestampType()), 'dd'))\n",
    "\n",
    "# u.EEEE to have first the numerical weekday(u) then the wordy one(EEEE) to order it by day & not alphabetically\n",
    "df = df.withColumn('ts_day_of_week', date_format((df.ts / 1000).cast(dataType=TimestampType()), 'E'))\n",
    "df = df.withColumn('ts_month', date_format((df.ts / 1000).cast(dataType=TimestampType()), 'MM'))\n",
    "df = df.withColumn('ts_year', date_format((df.ts / 1000).cast(dataType=TimestampType()), 'yyyy'))\n",
    "df = df.withColumn('ts_year_month', date_format((df.ts / 1000).cast(dataType=TimestampType()), 'yyyy-MM'))\n",
    "\n",
    "df.select('ts', 'ts_timestamp', 'ts_yyyy_mm_dd', 'ts_hour', 'ts_day_of_month', 'ts_day_of_week', 'ts_month', \\\n",
    "          'ts_year', 'ts_year_month').show(n=20)\n",
    "df.createOrReplaceTempView('event_table_clean')"
   ]
  },
  {
   "cell_type": "code",
   "execution_count": 22,
   "metadata": {},
   "outputs": [
    {
     "name": "stdout",
     "output_type": "stream",
     "text": [
      "+----------------+----------------+\n",
      "|        min_time|        max_time|\n",
      "+----------------+----------------+\n",
      "|2018-10-01 01:00|2018-12-03 01:11|\n",
      "+----------------+----------------+\n",
      "\n"
     ]
    }
   ],
   "source": [
    "# Lets check our time range min-max\n",
    "spark.sql(\"Select min(ts_timestamp) as min_time, max(ts_timestamp) as max_time from event_table_clean\").show()"
   ]
  },
  {
   "cell_type": "markdown",
   "metadata": {},
   "source": [
    "You can see that the data only spans over about 2 months. This is relatively small and any predictions or interpretations on such a small period need to be taken with prudence."
   ]
  },
  {
   "cell_type": "markdown",
   "metadata": {},
   "source": [
    "### Lets visualize our events counts / churn count trending per day, day of week and hour of day"
   ]
  },
  {
   "cell_type": "code",
   "execution_count": 23,
   "metadata": {},
   "outputs": [
    {
     "name": "stdout",
     "output_type": "stream",
     "text": [
      "+-------------+-----+\n",
      "|ts_yyyy_mm_dd|count|\n",
      "+-------------+-----+\n",
      "|   2018-10-01| 4286|\n",
      "|   2018-10-02| 4453|\n",
      "|   2018-10-03| 3966|\n",
      "|   2018-10-04| 4645|\n",
      "|   2018-10-05| 4485|\n",
      "+-------------+-----+\n",
      "only showing top 5 rows\n",
      "\n",
      "None\n",
      "+--------------+-----+\n",
      "|ts_day_of_week|count|\n",
      "+--------------+-----+\n",
      "|           Fri|48173|\n",
      "|           Mon|43252|\n",
      "|           Sat|28027|\n",
      "|           Sun|21050|\n",
      "|           Thu|44320|\n",
      "+--------------+-----+\n",
      "only showing top 5 rows\n",
      "\n",
      "None\n"
     ]
    },
    {
     "data": {
      "image/png": "[encoded data removed]",
      "text/plain": [
       "<Figure size 1080x864 with 3 Axes>"
      ]
     },
     "metadata": {
      "needs_background": "light"
     },
     "output_type": "display_data"
    }
   ],
   "source": [
    "df.createOrReplaceTempView('event_table_cleaned')\n",
    "df4 = spark.sql(\"select ts_yyyy_mm_dd, count(*) as count from event_table_cleaned group by ts_yyyy_mm_dd order by ts_yyyy_mm_dd\")\n",
    "print(df4.show(n=5))\n",
    "df_panda = df4.toPandas()\n",
    "df_downgrade_cancel = spark.sql(\"select ts_yyyy_mm_dd, count(*) as count from event_table_cleaned where page in ('Downgrade', 'Cancel') group by ts_yyyy_mm_dd order by ts_yyyy_mm_dd\")\n",
    "df_downgrade_cancel_pd = df_downgrade_cancel.toPandas()\n",
    "\n",
    "\n",
    "# visualize now\n",
    "# Matplotlib documentation on https://pandas.pydata.org/docs/reference/api/pandas.DataFrame.plot.barh.html#:~:text=A%20horizontal%20bar%20plot%20is,axis%20represents%20a%20measured%20value.\n",
    "fig, ax = plt.subplots(nrows=2, ncols=1, figsize =(15, 12))\n",
    "\n",
    "# Top chart\n",
    "\n",
    "ax0_twin = ax[0].twinx() \n",
    "ax0_twin.plot(df_downgrade_cancel_pd['ts_yyyy_mm_dd'].tolist(), df_downgrade_cancel_pd['count'].tolist(), color='red')\n",
    "ax[0].plot(df_panda['ts_yyyy_mm_dd'].tolist(), df_panda['count'].tolist(), color='blue')\n",
    "ax[0].title.set_text('Trending of events per year-month')\n",
    "ax[0].set_ylabel('Event Count', color = 'blue') \n",
    "ax0_twin.set_ylabel('Cancellation Count', color = 'red') \n",
    "ax[0].tick_params(axis='x', rotation=90)\n",
    "\n",
    "# look at data per day of week\n",
    "df4 = spark.sql(\"select ts_day_of_week, count(*) as count from event_table_cleaned group by ts_day_of_week order by ts_day_of_week\")\n",
    "print(df4.show(n=5))\n",
    "df_panda = df4.toPandas()\n",
    "\n",
    "# Down chart\n",
    "df_panda.plot.bar(x='ts_day_of_week', y='count', ax=ax[1])\n",
    "ax[1].title.set_text('Trending of Events per Day Of Week')\n",
    "ax[1].tick_params(axis='x', rotation=0)\n",
    "# Add margin spaces to see properly the axis labels\n",
    "plt.subplots_adjust(wspace=1,hspace=0.5,left=0.1,top=0.9,right=0.9,bottom=0.1)\n",
    "plt.show()"
   ]
  },
  {
   "cell_type": "code",
   "execution_count": 24,
   "metadata": {},
   "outputs": [
    {
     "name": "stdout",
     "output_type": "stream",
     "text": [
      "+-------+-----+\n",
      "|ts_hour|count|\n",
      "+-------+-----+\n",
      "|     00|11079|\n",
      "|     01|10149|\n",
      "|     02|10095|\n",
      "|     03|10126|\n",
      "|     04| 9954|\n",
      "+-------+-----+\n",
      "only showing top 5 rows\n",
      "\n",
      "None\n"
     ]
    },
    {
     "data": {
      "image/png": "[encoded data removed]",
      "text/plain": [
       "<Figure size 1080x576 with 2 Axes>"
      ]
     },
     "metadata": {
      "needs_background": "light"
     },
     "output_type": "display_data"
    }
   ],
   "source": [
    "# analysis by hours\n",
    "df4 = spark.sql(\"select ts_hour, count(*) as count from event_table_cleaned group by ts_hour order by ts_hour\")\n",
    "print(df4.show(n=5))\n",
    "df_panda = df4.toPandas()\n",
    "df_downgrade_cancel = spark.sql(\"select ts_hour, count(*) as count from event_table_cleaned where page in ('Downgrade', 'Cancel') group by ts_hour order by ts_hour\")\n",
    "df_downgrade_cancel_pd = df_downgrade_cancel.toPandas()\n",
    "\n",
    "\n",
    "# visualize now\n",
    "# Matplotlib documentation on https://pandas.pydata.org/docs/reference/api/pandas.DataFrame.plot.barh.html#:~:text=A%20horizontal%20bar%20plot%20is,axis%20represents%20a%20measured%20value.\n",
    "fig, ax = plt.subplots(nrows=1, ncols=1, figsize =(15, 8))\n",
    "\n",
    "# Top chart, using twin axis to overlay on background the count of events and on foreground the downgrade count\n",
    "# Using twin axis to have 2 y-axis and proportionally compare better how both are trending by hour.\n",
    "ax0_twin = ax.twinx() \n",
    "ax.bar(df_panda['ts_hour'].tolist(), df_panda['count'].tolist(), color='lightsteelblue')\n",
    "ax0_twin.bar(df_downgrade_cancel_pd['ts_hour'].tolist(), df_downgrade_cancel_pd['count'].tolist(), color='magenta', width=0.2)\n",
    "ax.title.set_text('Trending of all events per hour of day vs downgrade ones')\n",
    "ax.set_ylabel('Event Count', color = 'blue') \n",
    "ax0_twin.set_ylabel('Downgrade Event Count', color = 'magenta') \n",
    "ax.tick_params(axis='x', rotation=90)"
   ]
  },
  {
   "cell_type": "markdown",
   "metadata": {},
   "source": [
    "### Time analysis insights\n",
    "The data clearly seems to show a weekly seasonality, where the event count is lower over the weekend. \n",
    "<br>The event count seems also to follow hourly pattern, which intuitively makes sense... people are more keen to listen to music in the late afternoonn or evening vs the morning, the population age and hourly patterns could be, if the data was available, very interesting to analyse.\n",
    "<br>Therefore, we would like to include time based features like year, month, weekday, hour as  potential useful features in our model.\n",
    "<br>No clear up/down overall full duration trend is showing, but cautious is needed as it is only a subset of the data."
   ]
  },
  {
   "cell_type": "markdown",
   "metadata": {},
   "source": [
    "### Analytics on type of device used to play the songs"
   ]
  },
  {
   "cell_type": "code",
   "execution_count": 25,
   "metadata": {},
   "outputs": [
    {
     "name": "stdout",
     "output_type": "stream",
     "text": [
      "+----------------------------------------------------------------------------------------------------------------------------------+-----+\n",
      "|userAgent                                                                                                                         |FROM |\n",
      "+----------------------------------------------------------------------------------------------------------------------------------+-----+\n",
      "|\"Mozilla/5.0 (Windows NT 6.1; WOW64) AppleWebKit/537.36 (KHTML, like Gecko) Chrome/36.0.1985.143 Safari/537.36\"                   |22751|\n",
      "|\"Mozilla/5.0 (Macintosh; Intel Mac OS X 10_9_4) AppleWebKit/537.77.4 (KHTML, like Gecko) Version/7.0.5 Safari/537.77.4\"           |19611|\n",
      "|\"Mozilla/5.0 (Macintosh; Intel Mac OS X 10_9_4) AppleWebKit/537.36 (KHTML, like Gecko) Chrome/36.0.1985.125 Safari/537.36\"        |18448|\n",
      "|\"Mozilla/5.0 (Macintosh; Intel Mac OS X 10_9_4) AppleWebKit/537.36 (KHTML, like Gecko) Chrome/36.0.1985.143 Safari/537.36\"        |17348|\n",
      "|Mozilla/5.0 (Windows NT 6.1; WOW64; rv:31.0) Gecko/20100101 Firefox/31.0                                                          |16700|\n",
      "|\"Mozilla/5.0 (Windows NT 6.1; WOW64) AppleWebKit/537.36 (KHTML, like Gecko) Chrome/36.0.1985.125 Safari/537.36\"                   |15395|\n",
      "|\"Mozilla/5.0 (Windows NT 6.1; WOW64) AppleWebKit/537.36 (KHTML, like Gecko) Chrome/37.0.2062.103 Safari/537.36\"                   |14598|\n",
      "|Mozilla/5.0 (Macintosh; Intel Mac OS X 10.9; rv:31.0) Gecko/20100101 Firefox/31.0                                                 |10300|\n",
      "|\"Mozilla/5.0 (iPad; CPU OS 7_1_2 like Mac OS X) AppleWebKit/537.51.2 (KHTML, like Gecko) Version/7.0 Mobile/11D257 Safari/9537.53\"|8912 |\n",
      "|Mozilla/5.0 (compatible; MSIE 9.0; Windows NT 6.1; WOW64; Trident/5.0)                                                            |8624 |\n",
      "+----------------------------------------------------------------------------------------------------------------------------------+-----+\n",
      "only showing top 10 rows\n",
      "\n"
     ]
    }
   ],
   "source": [
    "# Lets look at some data example to see how to parse the userAgent data to simplify it\n",
    "df4 = spark.sql(\"SELECT userAgent, count(*) FROM from event_table_clean group by userAgent order by count(*) DESC\")\n",
    "df4.show(n = 10, truncate=False)"
   ]
  },
  {
   "cell_type": "markdown",
   "metadata": {},
   "source": [
    "INSIGHT: the field userAgent is very noisy, lets simplify it by only getting the values between () and the first item before the \";\" or \")\" or a white space.<br>Regular expressions would be ideal for this work."
   ]
  },
  {
   "cell_type": "code",
   "execution_count": 26,
   "metadata": {},
   "outputs": [
    {
     "data": {
      "image/png": "[encoded data removed]",
      "text/plain": [
       "<Figure size 1008x576 with 1 Axes>"
      ]
     },
     "metadata": {
      "needs_background": "light"
     },
     "output_type": "display_data"
    }
   ],
   "source": [
    "from pyspark.sql import functions as F\n",
    "# Regex to get the first word between the first parenthesis and either \";\" or \")\" or a white space\n",
    "# Example: \"Mozilla/5.0 (Macintosh; Intel Mac OS X 10.9; rv:31.0)\" => \"Macintosh\"\n",
    "df = df.withColumn(\"device\", F.regexp_extract(df.userAgent, r\"\\(([a-z|A-Z|0-9]+?)[\\;|\\)|\\s]\", 1))          \n",
    "df4 = df.groupBy('device').count().select('device', 'count').orderBy('count')\n",
    "df_panda = df4.toPandas()\n",
    "fig, ax = plt.subplots(figsize=(14, 8))\n",
    "df_panda.plot.barh(x='device', y='count', ax=ax)\n",
    "\n",
    "# add label of value, see doc https://matplotlib.org/stable/api/_as_gen/matplotlib.pyplot.text.html\n",
    "for idx, value in enumerate(df_panda['count']):\n",
    "    plt.text(value, idx, value)\n",
    "\n",
    "plt.title('How many events per device used?')\n",
    "plt.show()"
   ]
  },
  {
   "cell_type": "markdown",
   "metadata": {},
   "source": [
    "### Deep dive on churn patterns\n",
    "Lets deep dive on the data patterns linked to user churning. This to get more insights on potentially useful features and methods to use.\n"
   ]
  },
  {
   "cell_type": "code",
   "execution_count": 27,
   "metadata": {},
   "outputs": [
    {
     "name": "stdout",
     "output_type": "stream",
     "text": [
      "+------+-------------------------+\n",
      "|userId|page                     |\n",
      "+------+-------------------------+\n",
      "|18    |Cancellation Confirmation|\n",
      "|32    |Cancellation Confirmation|\n",
      "|125   |Cancellation Confirmation|\n",
      "+------+-------------------------+\n",
      "only showing top 3 rows\n",
      "\n"
     ]
    }
   ],
   "source": [
    "# Show me some records where user churned\n",
    "df.filter(\"page='Cancellation Confirmation'\").select('userId', 'page').show(n=3, truncate=False)"
   ]
  },
  {
   "cell_type": "code",
   "execution_count": 28,
   "metadata": {},
   "outputs": [
    {
     "name": "stdout",
     "output_type": "stream",
     "text": [
      "+----------------+--------------------+--------------------+--------------------+---------+-----+--------------------+------+\n",
      "|    ts_timestamp|                page|              artist|                song|   length|level|           userAgent|userID|\n",
      "+----------------+--------------------+--------------------+--------------------+---------+-----+--------------------+------+\n",
      "|2018-10-07 08:26|Cancellation Conf...|                null|                null|     null| paid|\"Mozilla/5.0 (Mac...|    18|\n",
      "|2018-10-07 08:22|           Downgrade|                null|                null|     null| paid|\"Mozilla/5.0 (Mac...|    18|\n",
      "|2018-10-07 08:22|            NextSong|          Nickelback|             Someday|207.46404| paid|\"Mozilla/5.0 (Mac...|    18|\n",
      "|2018-10-07 08:22|              Cancel|                null|                null|     null| paid|\"Mozilla/5.0 (Mac...|    18|\n",
      "|2018-10-07 08:17|            NextSong|The Notorious B.I.G.|Nasty Girl (Featu...| 286.1971| paid|\"Mozilla/5.0 (Mac...|    18|\n",
      "|2018-10-07 08:11|            NextSong|Les Ogres De Barback|            Pas bien|323.21261| paid|\"Mozilla/5.0 (Mac...|    18|\n",
      "|2018-10-07 08:07|            NextSong|          Arch Enemy| Blood On Your Hands|280.86812| paid|\"Mozilla/5.0 (Mac...|    18|\n",
      "|2018-10-07 08:04|            NextSong|               Tonic|                Liar|174.94159| paid|\"Mozilla/5.0 (Mac...|    18|\n",
      "|2018-10-07 08:00|            NextSong|          Nickelback|Far Away (Album V...|238.18404| paid|\"Mozilla/5.0 (Mac...|    18|\n",
      "|2018-10-07 07:53|            NextSong|Usher featuring w...|                 OMG|395.72853| paid|\"Mozilla/5.0 (Mac...|    18|\n",
      "|2018-10-07 07:48|            NextSong|         Miles Davis|       Blue In Green|336.06485| paid|\"Mozilla/5.0 (Mac...|    18|\n",
      "|2018-10-07 07:44|            NextSong|                 Air|     Playground Love|212.21832| paid|\"Mozilla/5.0 (Mac...|    18|\n",
      "|2018-10-07 07:41|            NextSong|Martin O'Donnell ...|           Reclaimer|185.80853| paid|\"Mozilla/5.0 (Mac...|    18|\n",
      "|2018-10-07 07:38|            NextSong|           FM Static|     Take Me As I Am|212.61016| paid|\"Mozilla/5.0 (Mac...|    18|\n",
      "|2018-10-07 07:33|            NextSong|            Ane Brun|      The Fight Song|269.58322| paid|\"Mozilla/5.0 (Mac...|    18|\n",
      "|2018-10-07 07:28|            NextSong|         Sheryl Crow|             Picture|298.78812| paid|\"Mozilla/5.0 (Mac...|    18|\n",
      "|2018-10-07 07:24|            NextSong|             OutKast|         Ms. Jackson|239.35955| paid|\"Mozilla/5.0 (Mac...|    18|\n",
      "|2018-10-07 07:23|            NextSong|      Brisa RochÃÂ©|      Intermission 1| 48.19546| paid|\"Mozilla/5.0 (Mac...|    18|\n",
      "|2018-10-07 07:19|            NextSong|      Alien Ant Farm|              Calico|253.04771| paid|\"Mozilla/5.0 (Mac...|    18|\n",
      "|2018-10-07 07:17|            NextSong|       The Offspring|   Killboy Powerhead|122.69669| paid|\"Mozilla/5.0 (Mac...|    18|\n",
      "+----------------+--------------------+--------------------+--------------------+---------+-----+--------------------+------+\n",
      "only showing top 20 rows\n",
      "\n"
     ]
    }
   ],
   "source": [
    "# Lets look at 1 user with userId=131 by time stamp when churned\n",
    "df5 = spark.sql(\"select ts_timestamp, page, artist, song, \\\n",
    "        length, level, userAgent, userID \\\n",
    "        from event_table_cleaned where userID = '18' order by ts_timestamp desc\")\n",
    "df5.show(20)"
   ]
  },
  {
   "cell_type": "markdown",
   "metadata": {},
   "source": [
    "### How long from start to churn?"
   ]
  },
  {
   "cell_type": "code",
   "execution_count": 29,
   "metadata": {},
   "outputs": [
    {
     "name": "stdout",
     "output_type": "stream",
     "text": [
      "+------+-------------------------+-----+----------------+---------+\n",
      "|userId|page                     |churn|ts_timestamp    |ts_churn |\n",
      "+------+-------------------------+-----+----------------+---------+\n",
      "|18    |Cancellation Confirmation|1    |2018-10-07 08:26|444073000|\n",
      "|18    |NextSong                 |0    |2018-10-07 08:22|443809000|\n",
      "|18    |Cancel                   |0    |2018-10-07 08:22|443823000|\n",
      "|18    |Downgrade                |0    |2018-10-07 08:22|443822000|\n",
      "|18    |NextSong                 |0    |2018-10-07 08:17|443523000|\n",
      "|18    |NextSong                 |0    |2018-10-07 08:11|443200000|\n",
      "|18    |NextSong                 |0    |2018-10-07 08:07|442920000|\n",
      "|18    |NextSong                 |0    |2018-10-07 08:04|442746000|\n",
      "|18    |NextSong                 |0    |2018-10-07 08:00|442508000|\n",
      "|18    |NextSong                 |0    |2018-10-07 07:53|442113000|\n",
      "|18    |NextSong                 |0    |2018-10-07 07:48|441777000|\n",
      "|18    |NextSong                 |0    |2018-10-07 07:44|441565000|\n",
      "|18    |NextSong                 |0    |2018-10-07 07:41|441380000|\n",
      "|18    |NextSong                 |0    |2018-10-07 07:38|441168000|\n",
      "|18    |NextSong                 |0    |2018-10-07 07:33|440899000|\n",
      "|18    |NextSong                 |0    |2018-10-07 07:28|440601000|\n",
      "|18    |NextSong                 |0    |2018-10-07 07:24|440362000|\n",
      "|18    |NextSong                 |0    |2018-10-07 07:23|440314000|\n",
      "|18    |NextSong                 |0    |2018-10-07 07:19|440061000|\n",
      "|18    |NextSong                 |0    |2018-10-07 07:17|439939000|\n",
      "|18    |NextSong                 |0    |2018-10-07 07:13|439720000|\n",
      "|18    |Thumbs Up                |0    |2018-10-07 07:09|439470000|\n",
      "|18    |NextSong                 |0    |2018-10-07 07:09|439469000|\n",
      "|18    |NextSong                 |0    |2018-10-07 07:06|439247000|\n",
      "|18    |NextSong                 |0    |2018-10-07 07:02|439049000|\n",
      "|18    |Add Friend               |0    |2018-10-07 06:58|438811000|\n",
      "|18    |NextSong                 |0    |2018-10-07 06:58|438810000|\n",
      "|18    |NextSong                 |0    |2018-10-07 06:54|438535000|\n",
      "|18    |NextSong                 |0    |2018-10-07 06:48|438179000|\n",
      "|18    |NextSong                 |0    |2018-10-07 06:44|437974000|\n",
      "+------+-------------------------+-----+----------------+---------+\n",
      "only showing top 30 rows\n",
      "\n"
     ]
    }
   ],
   "source": [
    "# Now lets define a partition over to see time span between each churn events by user\n",
    "from pyspark.sql import Window\n",
    "from pyspark.sql import functions as F\n",
    "window = Window.partitionBy(\"userId\")\\\n",
    "    .orderBy(\"ts_timestamp\")\\\n",
    "    .rangeBetween(Window.unboundedPreceding, 0)\n",
    "\n",
    "# see events in reverse chronological order to see what happens before the churn\n",
    "df.where(df.userId == 18).select('userId', 'page', 'churn', 'ts_timestamp',\\\n",
    "    (F.col('ts') - F.first('ts').over(window)).alias('ts_churn'),\\\n",
    "    # F.row_number().over(window).alias('rank')\\\n",
    "    )\\\n",
    "    .orderBy(['userId', 'ts_timestamp'], ascending=[1,0])\\\n",
    "    .show(n=30, truncate=False)"
   ]
  },
  {
   "cell_type": "code",
   "execution_count": 30,
   "metadata": {},
   "outputs": [
    {
     "name": "stdout",
     "output_type": "stream",
     "text": [
      "['artist', 'auth', 'firstName', 'gender', 'itemInSession', 'lastName', 'length', 'level', 'location', 'method', 'page', 'registration', 'sessionId', 'song', 'status', 'ts', 'userAgent', 'userId', 'churn', 'churn_user', 'state', 'city', 'ts_timestamp', 'ts_yyyy_mm_dd', 'ts_hour', 'ts_day_of_month', 'ts_day_of_week', 'ts_month', 'ts_year', 'ts_year_month', 'device']\n"
     ]
    }
   ],
   "source": [
    "print(df.columns)"
   ]
  },
  {
   "cell_type": "markdown",
   "metadata": {},
   "source": [
    "INSIGHT: the user was playing a few songs, submitted his cancellation then the downgrade came, then cancellation confirmation"
   ]
  },
  {
   "cell_type": "markdown",
   "metadata": {},
   "source": [
    "## Key Learnings On Field Data Aggregation Per User & Churn Visualization\n",
    "In this section, we will aggregate some key features per user and analyze / visualize how the user churning or not differentiate between them. This will help us to confirm the key features to use for modelling. \n",
    "<br>We could imagine an evolved model where we build a vectorized count of number of songs played or artist played, using the SQL function \"approx_count_distinct()\". We could then build a related \"profile\" for the user, compared to other users.\n",
    "<br>\n",
    "<br>I coded this \"user profiling\" feature using a standard PySpark function \"collect_list()\" on songs and artist for each user. I found out that the PySpark CountVectorizercould be powerful, but very resource intensive, especially on the dimensionality of the vector createed. For the sake of simplicity and time, I changed our feature strategy to only count the distinct number of songs and artists played using the sql function \"approx_count_distinct()\". \n",
    "<br>I also found using spark.sql statements for data engineering easier to develop and combine than the normal Spark DataFrame methods, likely because I am very familiar the SQL and found differences on how PySpark handles dataframes vs the normal Python Pandas module.\n",
    "<br>Reference to handy related Spark SQL functions:\n",
    "- \"approx_count_distinct(some_column)\", \"returns a new Column for approximate distinct count of column\", but much faster than an exact count \"https://spark.apache.org/docs/3.1.2/api/python/reference/api/pyspark.sql.functions.approx_count_distinct.html\n",
    "- \"collect_set() & collect_list\", \"PySpark SQL function collect_set() is similar to collect_list(). The difference is that collect_set() dedupe or eliminates the duplicates and results in uniqueness for each value\" reference: https://sparkbyexamples.com/pyspark/pyspark-collect_list-and-collect_set-functions/\n"
   ]
  },
  {
   "cell_type": "code",
   "execution_count": 31,
   "metadata": {},
   "outputs": [
    {
     "name": "stdout",
     "output_type": "stream",
     "text": [
      "root\n",
      " |-- artist: string (nullable = true)\n",
      " |-- auth: string (nullable = true)\n",
      " |-- firstName: string (nullable = true)\n",
      " |-- gender: string (nullable = true)\n",
      " |-- itemInSession: long (nullable = true)\n",
      " |-- lastName: string (nullable = true)\n",
      " |-- length: double (nullable = true)\n",
      " |-- level: string (nullable = true)\n",
      " |-- location: string (nullable = true)\n",
      " |-- method: string (nullable = true)\n",
      " |-- page: string (nullable = true)\n",
      " |-- registration: long (nullable = true)\n",
      " |-- sessionId: long (nullable = true)\n",
      " |-- song: string (nullable = true)\n",
      " |-- status: long (nullable = true)\n",
      " |-- ts: long (nullable = true)\n",
      " |-- userAgent: string (nullable = true)\n",
      " |-- userId: string (nullable = true)\n",
      " |-- churn: integer (nullable = true)\n",
      " |-- churn_user: integer (nullable = true)\n",
      " |-- state: string (nullable = true)\n",
      " |-- city: string (nullable = true)\n",
      " |-- ts_timestamp: string (nullable = true)\n",
      " |-- ts_yyyy_mm_dd: string (nullable = true)\n",
      " |-- ts_hour: string (nullable = true)\n",
      " |-- ts_day_of_month: string (nullable = true)\n",
      " |-- ts_day_of_week: string (nullable = true)\n",
      " |-- ts_month: string (nullable = true)\n",
      " |-- ts_year: string (nullable = true)\n",
      " |-- ts_year_month: string (nullable = true)\n",
      " |-- device: string (nullable = true)\n",
      "\n",
      "None\n"
     ]
    }
   ],
   "source": [
    "print(df.printSchema())"
   ]
  },
  {
   "cell_type": "code",
   "execution_count": 52,
   "metadata": {},
   "outputs": [],
   "source": [
    "# Replace NAN by Null on field 'Legnth' to avoid that percentile calculation returns NAN\n",
    "# Code found & updated from the following URL https://stackoverflow.com/questions/50992713/pyspark-replace-nan-with-null\n",
    "df = df.withColumn('length_clean',F.when(F.isnan(F.col('length')),None).otherwise(F.col('length')))"
   ]
  },
  {
   "cell_type": "code",
   "execution_count": 33,
   "metadata": {},
   "outputs": [
    {
     "name": "stdout",
     "output_type": "stream",
     "text": [
      "+------+----------+------+---------+--------------------+--------+-----+-------------+---------+------------------+------------------+--------+----------+----------+---------+-------+------------+-----+----------+------------+\n",
      "|userId|churn_user|gender|   device|                city|   state|level|hours_2_churn|nr_events|     length_pct_50|     length_pct_75|thumb_up|thumb_down|add_friend|downgrade|upgrade|add_playlist|Error|song_count|artist_count|\n",
      "+------+----------+------+---------+--------------------+--------+-----+-------------+---------+------------------+------------------+--------+----------+----------+---------+-------+------------+-----+----------+------------+\n",
      "|100010|         0|     F|   iPhone|Bridgeport-Stamfo...|      CT| free|         1061|      381|         237.13914|         277.15873|      17|         5|         4|        0|      0|           7|    0|       274|         249|\n",
      "|200002|         0|     M|   iPhone|Chicago-Napervill...|IL-IN-WI| paid|         1091|      474|         237.26975|273.59301500000004|      21|         6|         4|        5|      0|           8|    0|       377|         330|\n",
      "|   125|         1|     M|Macintosh|      Corpus Christi|      TX| free|            0|       11|         221.81832|327.33995250000004|       0|         0|         0|        0|      0|           0|    0|         8|           8|\n",
      "|   124|         0|     F|Macintosh|  Vineland-Bridgeton|      NJ| paid|         1439|     4825|          233.9522|        277.459135|     171|        41|        74|       41|      0|         118|    6|      3279|        2197|\n",
      "|    51|         1|     M|  Windows|   Lexington-Fayette|      KY| paid|          378|     2464|         235.20608|273.91954499999997|     100|        21|        28|       23|      0|          52|    1|      1897|        1392|\n",
      "|     7|         0|     M|  Windows|Seattle-Tacoma-Be...|      WA| free|         1218|      201|        232.737505|       275.0950525|       7|         1|         1|        0|      0|           5|    1|       150|         137|\n",
      "|    15|         0|     M|  Windows|          Morgantown|      WV| paid|         1311|     2278|         235.33669|         280.02567|      81|        14|        31|       28|      0|          59|    2|      1765|        1311|\n",
      "|    54|         1|     F|  Windows|Spokane-Spokane V...|      WA| paid|         1014|     3437|         235.93751|         277.52444|     163|        29|        33|       39|      0|          72|    1|      2464|        1731|\n",
      "|   155|         0|     F|  Windows|Boston-Cambridge-...|   MA-NH| paid|          619|     1002|231.78403500000002|       273.1228125|      58|         3|        11|       12|      0|          24|    3|       751|         615|\n",
      "|100014|         1|     M|  Windows|New York-Newark-J...|NY-NJ-PA| paid|          989|      310|         238.54975|         284.13342|      17|         3|         6|        3|      0|           7|    0|       264|         242|\n",
      "+------+----------+------+---------+--------------------+--------+-----+-------------+---------+------------------+------------------+--------+----------+----------+---------+-------+------------+-----+----------+------------+\n",
      "only showing top 10 rows\n",
      "\n"
     ]
    }
   ],
   "source": [
    "# Now lets define a partition over to see time span between each churn events by user\n",
    "from pyspark.sql import Window\n",
    "from pyspark.sql import functions as F\n",
    "window = Window.partitionBy(\"userId\")\\\n",
    "    .orderBy(\"ts_timestamp\")\\\n",
    "    .rangeBetween(Window.unboundedPreceding, 0)\n",
    "\n",
    "df_user = df.select('userId', 'page', 'churn', 'ts_timestamp', 'length_clean', \\\n",
    "                    'level', 'gender', 'device', 'song', 'artist', \\\n",
    "                    'city', 'state', \\\n",
    "                    (F.col('ts') - F.first('ts').over(window)).alias('ts_churn'))\n",
    "\n",
    "df_user.createOrReplaceTempView('user_ts_churn_timestamp')\n",
    "sql_Query = \"\"\" select userId\n",
    "    , max(churn) as churn_user\n",
    "    , max(gender) as gender\n",
    "    , max(device) as device\n",
    "    , max(city) as city\n",
    "    , max(state) as state\n",
    "    , max(level) as level\n",
    "    , cast(max(ts_churn)/3600000 as int) as hours_2_churn\n",
    "    , count(*) as nr_events \n",
    "    , percentile(length_clean, 0.50) as length_pct_50\n",
    "    , percentile(length_clean, 0.75) as length_pct_75\n",
    "    , sum(case when page = \"Thumbs Up\" then 1 else 0 end) as thumb_up\n",
    "    , sum(case when page = \"Thumbs Down\" then 1 else 0 end) as thumb_down\n",
    "    , sum(case when page = \"Add Friend\" then 1 else 0 end) as add_friend\n",
    "    , sum(case when page = \"Downgrade\" then 1 else 0 end) as downgrade\n",
    "    , sum(case when page = \"Upgradee\" then 1 else 0 end) as upgrade\n",
    "    , sum(case when page = \"Add to Playlist\" then 1 else 0 end) as add_playlist\n",
    "    , sum(case when page = \"Error\" then 1 else 0 end) as Error\n",
    "    , approx_count_distinct(song) as song_count\n",
    "    , approx_count_distinct(artist) as artist_count\n",
    "    FROM user_ts_churn_timestamp \n",
    "    GROUP BY userId\n",
    "    \"\"\"\n",
    "\n",
    "df_clean = spark.sql(sql_Query)\n",
    "df_clean.persist() # caching to improve performance\n",
    "df_clean.show(n=10)"
   ]
  },
  {
   "cell_type": "code",
   "execution_count": 34,
   "metadata": {},
   "outputs": [
    {
     "name": "stdout",
     "output_type": "stream",
     "text": [
      "churn_user   0   1\n",
      "gender            \n",
      "F           84  20\n",
      "M           89  32\n"
     ]
    },
    {
     "data": {
      "image/png": "[encoded data removed]",
      "text/plain": [
       "<Figure size 1500x400 with 1 Axes>"
      ]
     },
     "metadata": {
      "needs_background": "light"
     },
     "output_type": "display_data"
    },
    {
     "name": "stdout",
     "output_type": "stream",
     "text": [
      "churn_user     0    1\n",
      "state                \n",
      "AK           2.0  NaN\n",
      "AL           2.0  2.0\n",
      "AR           NaN  1.0\n",
      "AZ           5.0  2.0\n",
      "CA          27.0  6.0\n"
     ]
    },
    {
     "data": {
      "image/png": "[encoded data removed]",
      "text/plain": [
       "<Figure size 1500x400 with 1 Axes>"
      ]
     },
     "metadata": {
      "needs_background": "light"
     },
     "output_type": "display_data"
    },
    {
     "name": "stdout",
     "output_type": "stream",
     "text": [
      "churn_user    0   1\n",
      "level              \n",
      "free         44  16\n",
      "paid        129  36\n"
     ]
    },
    {
     "data": {
      "image/png": "[encoded data removed]",
      "text/plain": [
       "<Figure size 1500x400 with 1 Axes>"
      ]
     },
     "metadata": {
      "needs_background": "light"
     },
     "output_type": "display_data"
    },
    {
     "name": "stdout",
     "output_type": "stream",
     "text": [
      "churn_user     0     1\n",
      "device                \n",
      "Macintosh   67.0  19.0\n",
      "Windows     82.0  24.0\n",
      "X11          7.0   5.0\n",
      "compatible   5.0   NaN\n",
      "iPad         3.0   NaN\n"
     ]
    },
    {
     "data": {
      "image/png": "[encoded data removed]",
      "text/plain": [
       "<Figure size 1500x400 with 1 Axes>"
      ]
     },
     "metadata": {
      "needs_background": "light"
     },
     "output_type": "display_data"
    }
   ],
   "source": [
    "# Show how the churn varies between gender, state, level and type of device used\n",
    "fieldList = ['gender', 'state', 'level', 'device']\n",
    "for field in fieldList:\n",
    "    # Get the count by the field analyzed and churn yes/not\n",
    "    df4 = df_clean.select(field, 'userId', 'churn_user').groupBy(field, 'churn_user').count().orderBy(field, 'churn_user')\n",
    "\n",
    "    # move DF to a panda dataframe and pivot it to represent it into a stacked bar chart\n",
    "    dfp = df4.toPandas() # .dropna(axis=1)\n",
    "    dfp = pd.pivot_table(dfp, values='count', index=field, columns='churn_user', aggfunc=np.sum)\n",
    "    print(dfp.head())\n",
    "    plt.rcParams['figure.figsize'] = [15, 4]\n",
    "    plt.rcParams['figure.dpi'] = 100\n",
    "    ax = dfp.plot.bar(color=['green','red'], stacked=True)\n",
    "    plt.title(f'Churn per {field}')\n",
    "    plt.show()"
   ]
  },
  {
   "cell_type": "markdown",
   "metadata": {},
   "source": [
    "### Analysis of Churn\n",
    "You can see intuitively from the charts that the churn proportion varies between the different values. Those fields should certainly be part of our features. \n",
    "<br>Given the very small sample size in some value categories, we can only make some observations, but no statistically valid conclusions. \n",
    "<lt>\n",
    "<li>Gender: male seems to churn more than female\n",
    "</li><li>States: some states (OH, AL, MS,...) have a higher churn than others\n",
    "    </li><li>Level: paid people churn more than free ones\n",
    "    </li><li>Device (userAgent): windows and mac are churning more than other devices, but also represents the higher proportion of users.\n",
    "    "
   ]
  },
  {
   "cell_type": "markdown",
   "metadata": {},
   "source": [
    "# 3 Features Engineering\n",
    "In the hereunder section, the datframe will be cleansed to keep the key features we plat to use to train and test the machine learning model. \n",
    "### Feature Engineering Strategy\n",
    "We will use pipeline to convert our raw feature to ML-ready features.\n",
    "<br>The pipeline will follow those steps:\n",
    "<ol>\n",
    "<li>[churn_user] is already in binary format => no action needed\n",
    "</li><li>Other categorical [gender, device, city, state, level] => indexer + bit encoder \n",
    "</li><li>Numerical values [nr_events, hours_2_churn, percentile of length 50/75%, count of thumb up/down, add friends,...] => normalize / standardize\n",
    "</li><li>Concatenate all features calculated above into a vector assembler to enable a ML engine\n",
    "</li><li>Run ML classification\n",
    "</li></ol>\n",
    "<br> We will test each type of transformation individually to ground our learnings, verify that they work and achieve the excepted outcomes."
   ]
  },
  {
   "cell_type": "code",
   "execution_count": 35,
   "metadata": {},
   "outputs": [
    {
     "name": "stdout",
     "output_type": "stream",
     "text": [
      "['userId', 'churn_user', 'gender', 'device', 'city', 'state', 'level', 'hours_2_churn', 'nr_events', 'length_pct_50', 'length_pct_75', 'thumb_up', 'thumb_down', 'add_friend', 'downgrade', 'upgrade', 'add_playlist', 'Error', 'song_count', 'artist_count']\n"
     ]
    }
   ],
   "source": [
    "print(df_clean.columns)"
   ]
  },
  {
   "cell_type": "markdown",
   "metadata": {},
   "source": [
    "### Categorical fields(gender, device, city, state, level) => Hot encoder"
   ]
  },
  {
   "cell_type": "code",
   "execution_count": 36,
   "metadata": {},
   "outputs": [
    {
     "name": "stdout",
     "output_type": "stream",
     "text": [
      "+------+---------+--------------------+--------+-----+--------------------+\n",
      "|gender|   device|                city|   state|level|   category_features|\n",
      "+------+---------+--------------------+--------+-----+--------------------+\n",
      "|     F|   iPhone|Bridgeport-Stamfo...|      CT| free|(181,[1,4,25,126,...|\n",
      "|     M|   iPhone|Chicago-Napervill...|IL-IN-WI| paid|(181,[0,4,13,127,...|\n",
      "|     M|Macintosh|      Corpus Christi|      TX| free|(181,[0,3,69,122,...|\n",
      "+------+---------+--------------------+--------+-----+--------------------+\n",
      "only showing top 3 rows\n",
      "\n"
     ]
    }
   ],
   "source": [
    "from pyspark.ml import Pipeline\n",
    "from pyspark.ml.feature import StringIndexer, OneHotEncoder, VectorAssembler\n",
    "\n",
    "category_columns= ['gender', 'device', 'city', 'state', 'level']\n",
    "\n",
    "indexers = [StringIndexer(inputCol=c, outputCol=\"{0}_indexed\".format(c)) \n",
    "            for c in category_columns]\n",
    "\n",
    "encoders = [OneHotEncoder(dropLast=False,inputCol=indexer.getOutputCol(),outputCol=\"{0}_encoded\".format(indexer.getOutputCol())) \n",
    "            for indexer in indexers ]\n",
    "\n",
    "# put all in an assembler vector & run pipeline\n",
    "assembler = VectorAssembler(inputCols=[encoder.getOutputCol() for encoder in encoders],outputCol=\"category_features\")\n",
    "pipeline = Pipeline(stages=indexers + encoders+[assembler])\n",
    "model=pipeline.fit(df_clean)\n",
    "df_feature3 = model.transform(df_clean)\n",
    "df_feature3.select(category_columns + ['category_features']).show(n=3, truncate=True)                                          "
   ]
  },
  {
   "cell_type": "markdown",
   "metadata": {},
   "source": [
    "### Numerical values (hours_2_churn & nr_events) => StandardScaler\n",
    "First we put the numerical values into a vector then we scale it to fit a std deviation of 1 and mean of 1. This will be done at the end also for our categorical and list of string values transformed to vectors"
   ]
  },
  {
   "cell_type": "code",
   "execution_count": 37,
   "metadata": {},
   "outputs": [
    {
     "name": "stdout",
     "output_type": "stream",
     "text": [
      "+-------------+---------+--------------------+\n",
      "|hours_2_churn|nr_events|       vec_Numerical|\n",
      "+-------------+---------+--------------------+\n",
      "|         1061|      381|[1061.0,381.0,237...|\n",
      "|         1091|      474|[1091.0,474.0,237...|\n",
      "|            0|       11|(13,[1,2,3,11,12]...|\n",
      "+-------------+---------+--------------------+\n",
      "only showing top 3 rows\n",
      "\n"
     ]
    }
   ],
   "source": [
    "from pyspark.ml.feature import StandardScaler\n",
    "numerical_columns = ['hours_2_churn', 'nr_events', 'length_pct_50', 'length_pct_75', 'thumb_up', 'thumb_down', 'add_friend', 'downgrade', 'upgrade', 'add_playlist', 'Error', 'song_count', 'artist_count']\n",
    "# Get values into a vector\n",
    "assembler = VectorAssembler(inputCols=numerical_columns, outputCol=\"vec_Numerical\")\n",
    "df_clean2 = assembler.transform(df_clean)\n",
    "df_clean2.select('hours_2_churn', 'nr_events', 'vec_Numerical').show(n=3)"
   ]
  },
  {
   "cell_type": "code",
   "execution_count": 38,
   "metadata": {},
   "outputs": [
    {
     "name": "stdout",
     "output_type": "stream",
     "text": [
      "+------+-------------+---------+---------------------------------------------------------------------------------------------------------------------------------------------------------------------------------------------------------------------------------------------------+\n",
      "|userId|hours_2_churn|nr_events|scalled_numerical                                                                                                                                                                                                                                  |\n",
      "+------+-------------+---------+---------------------------------------------------------------------------------------------------------------------------------------------------------------------------------------------------------------------------------------------------+\n",
      "|100010|1061         |381      |[0.14221430163646376,-0.6432640827063776,0.6967862070660079,0.032329707509616126,-0.5922946161438025,-0.4829336348711395,-0.7292340618073149,-0.778337526790011,0.0,-0.6725762509459231,-0.76055593008874,-0.694456075607953,-0.7419493979955415]  |\n",
      "|200002|1091         |474      |[0.2080136392227364,-0.5733146419743104,0.7304366648300211,-0.44717093248184536,-0.5312053249990143,-0.4064663105600865,-0.7292340618073149,-0.35224034059110004,0.0,-0.6420107780186696,-0.76055593008874,-0.5791165248668231,-0.6086565350096305]|\n",
      "|125   |0            |11       |[-2.184888937664712,-0.9215575565866447,-3.250481278732082,6.780465300035731,-0.8519241035091526,-0.8652702564264046,-0.9235813095498624,-0.778337526790011,0.0,-0.8865345614366984,-0.76055593008874,-0.9923232649005799,-1.1385368051511535]     |\n",
      "+------+-------------+---------+---------------------------------------------------------------------------------------------------------------------------------------------------------------------------------------------------------------------------------------------------+\n",
      "only showing top 3 rows\n",
      "\n"
     ]
    }
   ],
   "source": [
    "# Scale the vecto to a standard normal distribution\n",
    "scaler = StandardScaler(inputCol='vec_Numerical', outputCol=f'scalled_numerical', \\\n",
    "                       withStd=True, withMean=True)\n",
    "sc_model = scaler.fit(df_clean2)\n",
    "df_scaled = sc_model.transform(df_clean2)\n",
    "df_scaled.select('userId', 'hours_2_churn', 'nr_events', f'scalled_numerical').show(n=3, truncate=False)"
   ]
  },
  {
   "cell_type": "markdown",
   "metadata": {},
   "source": [
    "# 4.Modeling\n",
    "In this section, the full dataset will be randomly split into train, test, and validation sets and prepared through \"feature engineering\" to be ready for ML modeling. \n",
    "<br>Then several machine learning classifiers will be trained on the training data set and evaluated for model performance, tuning their parameters to optimize their performance.\n",
    "<br>The winning model will be picked based on test accuracy and its prediction checked on the validation set. "
   ]
  },
  {
   "cell_type": "code",
   "execution_count": 39,
   "metadata": {},
   "outputs": [
    {
     "name": "stdout",
     "output_type": "stream",
     "text": [
      "root\n",
      " |-- userId: string (nullable = true)\n",
      " |-- churn_user: integer (nullable = true)\n",
      " |-- gender: string (nullable = true)\n",
      " |-- device: string (nullable = true)\n",
      " |-- city: string (nullable = true)\n",
      " |-- state: string (nullable = true)\n",
      " |-- level: string (nullable = true)\n",
      " |-- hours_2_churn: integer (nullable = true)\n",
      " |-- nr_events: long (nullable = false)\n",
      " |-- length_pct_50: double (nullable = true)\n",
      " |-- length_pct_75: double (nullable = true)\n",
      " |-- thumb_up: long (nullable = true)\n",
      " |-- thumb_down: long (nullable = true)\n",
      " |-- add_friend: long (nullable = true)\n",
      " |-- downgrade: long (nullable = true)\n",
      " |-- upgrade: long (nullable = true)\n",
      " |-- add_playlist: long (nullable = true)\n",
      " |-- Error: long (nullable = true)\n",
      " |-- song_count: long (nullable = false)\n",
      " |-- artist_count: long (nullable = false)\n",
      "\n",
      "None\n"
     ]
    }
   ],
   "source": [
    "# Lets check the latest schema\n",
    "print(df_clean.printSchema())"
   ]
  },
  {
   "cell_type": "markdown",
   "metadata": {},
   "source": [
    "## ML Model Training And Tuning\n",
    "We will first develop a pipeline to consolidate all our numerical and categorical features and transform them into a ML compatible assembled vector \"feature\".\n",
    "For details on the ML models used hereunder, please refer to the excellent PySpark ML Classification documentation on https://spark.apache.org/docs/latest/ml-classification-regression.html"
   ]
  },
  {
   "cell_type": "markdown",
   "metadata": {},
   "source": [
    "### Building The ML Pipeline For Features\n",
    "Reference: https://spark.apache.org/docs/latest/ml-pipeline.html"
   ]
  },
  {
   "cell_type": "code",
   "execution_count": 40,
   "metadata": {
    "scrolled": true
   },
   "outputs": [],
   "source": [
    "# transform played song list for each user to a count vectorizer, to be used as a feature\n",
    "from pyspark.ml.feature import CountVectorizer, IDF, StringIndexer, StandardScaler\n",
    "from pyspark.ml import Pipeline\n",
    "from pyspark.ml.classification import LogisticRegression\n",
    "\n",
    "# 0) GET THE LABEL\n",
    "df_clean= df_clean.withColumn(\"label\", df_clean['churn_user'])\n",
    "\n",
    "# 1) NUMERICAL VALUES: vector => standard scaller\n",
    "numerical_columns = ['hours_2_churn', 'nr_events', 'length_pct_50', 'length_pct_75', \\\n",
    "                     'thumb_up', 'thumb_down',\\\n",
    "                     'add_friend', 'downgrade', 'upgrade', 'add_playlist',\\\n",
    "                     'Error', 'song_count', 'artist_count']\n",
    "\n",
    "numericAssembler = VectorAssembler(inputCols= numerical_columns, outputCol=\"numeric_Features\")\n",
    "numericScaler = StandardScaler(inputCol='numeric_Features', outputCol='sc_numeric_Features', \\\n",
    "                       withStd=True, withMean=True)\n",
    "\n",
    "feature_columns = ['sc_numeric_Features']\n",
    "  \n",
    "## 2) CATEGORICAL FIELDS: transforming the categorical columns to a hotencoder vector\n",
    "categorical_columns= ['gender', 'device', 'city', 'state', 'level']\n",
    "# how to handle invalid data (unseen or NULL values) in features \n",
    "# and label column of string type. Options are 'skip' (filter out rows with invalid data),\n",
    "# error (throw an error), or 'keep' (put invalid data in a special additional bucket, at index numLabels).\"\n",
    "indexers = [StringIndexer(inputCol=c,\\\n",
    "                          outputCol=\"{0}_indexed\".format(c),\\\n",
    "                          handleInvalid=\"keep\")\\\n",
    "            for c in categorical_columns]\n",
    "\n",
    "encoders = [OneHotEncoder(dropLast=False,inputCol=indexer.getOutputCol(),\\\n",
    "               outputCol='{0}_encoded'.format(indexer.getOutputCol())) \\\n",
    "            for indexer in indexers]\n",
    "\n",
    "categorical_columns = [encoder.getOutputCol() for encoder in encoders] \n",
    "feature_columns = feature_columns + categorical_columns\n",
    "\n",
    "## put 1) + 2) in an assembler vector & run pipeline\n",
    "assembler = VectorAssembler(inputCols= feature_columns, outputCol=\"features\")\n",
    "\n",
    "# Build the pipeline to join the feature vectors of numericals + list of strings + categoricals, but no classifcation model at the end\n",
    "featurePipeline = Pipeline(stages=[numericAssembler, numericScaler]\\\n",
    "                    + indexers + encoders \\\n",
    "                    + [assembler])\n",
    "\n",
    "featureModel = featurePipeline.fit(df_clean)\n",
    "df_ML_features = featureModel.transform(df_clean).select('userId', 'label', 'features')"
   ]
  },
  {
   "cell_type": "code",
   "execution_count": 41,
   "metadata": {},
   "outputs": [
    {
     "name": "stdout",
     "output_type": "stream",
     "text": [
      "+------+-----+-----------------------------------------------------------------------------------------------------------------------------------------------------------------------------------------------------------------------------------------------------------------------------------------------------------------------+\n",
      "|userId|label|features                                                                                                                                                                                                                                                                                                               |\n",
      "+------+-----+-----------------------------------------------------------------------------------------------------------------------------------------------------------------------------------------------------------------------------------------------------------------------------------------------------------------------+\n",
      "|100010|0    |(199,[0,1,2,3,4,5,6,7,9,10,11,12,14,18,40,142,197],[0.14221430163646376,-0.6432640827063776,0.6967862070660079,0.032329707509616126,-0.5922946161438025,-0.4829336348711395,-0.7292340618073149,-0.778337526790011,-0.6725762509459231,-0.76055593008874,-0.694456075607953,-0.7419493979955415,1.0,1.0,1.0,1.0,1.0])  |\n",
      "|200002|0    |(199,[0,1,2,3,4,5,6,7,9,10,11,12,13,18,28,143,196],[0.2080136392227364,-0.5733146419743104,0.7304366648300211,-0.44717093248184536,-0.5312053249990143,-0.4064663105600865,-0.7292340618073149,-0.35224034059110004,-0.6420107780186696,-0.76055593008874,-0.5791165248668231,-0.6086565350096305,1.0,1.0,1.0,1.0,1.0])|\n",
      "+------+-----+-----------------------------------------------------------------------------------------------------------------------------------------------------------------------------------------------------------------------------------------------------------------------------------------------------------------------+\n",
      "only showing top 2 rows\n",
      "\n"
     ]
    }
   ],
   "source": [
    "df_ML_features.show(n=2, truncate=False)"
   ]
  },
  {
   "cell_type": "markdown",
   "metadata": {},
   "source": [
    "### Splitting the data set into training & testing data"
   ]
  },
  {
   "cell_type": "code",
   "execution_count": 42,
   "metadata": {},
   "outputs": [
    {
     "name": "stdout",
     "output_type": "stream",
     "text": [
      "Train records count: 188\tTest: 37\n"
     ]
    }
   ],
   "source": [
    "train, test = df_ML_features.randomSplit([0.8, 0.2], seed=42)\n",
    "print(f'Train records count: {train.count()}\\tTest: {test.count()}')"
   ]
  },
  {
   "cell_type": "markdown",
   "metadata": {},
   "source": [
    "### How will we evaluate our model efficacy?\n",
    "Lets look first at the distribution of our \"churn\" binary label values to classify and see if they are balanced between the users \"churning\" (churn_user=1) and \"not churning\"(churn_user=0)."
   ]
  },
  {
   "cell_type": "code",
   "execution_count": 47,
   "metadata": {},
   "outputs": [
    {
     "name": "stdout",
     "output_type": "stream",
     "text": [
      "   churn_user  count\n",
      "0           1     52\n",
      "1           0    173\n"
     ]
    },
    {
     "data": {
      "image/png": "[encoded data removed]",
      "text/plain": [
       "<Figure size 500x500 with 1 Axes>"
      ]
     },
     "metadata": {},
     "output_type": "display_data"
    }
   ],
   "source": [
    "# Get the count by the field analyzed and churn yes/not\n",
    "df4 = df_clean.select('userId', 'churn_user').groupBy('churn_user').agg(count('userId').alias('count')).sort(desc('churn_user'))\n",
    "                                                                                              \n",
    "# move DF to a panda dataframe and pivot it to represent it into a stacked bar chart\n",
    "dfp = df4.toPandas() # .dropna(axis=1)\n",
    "#dfp = pd.pivot_table(dfp, values='count', index='churn_user', columns='churn_user', aggfunc=np.sum)\n",
    "print(dfp.head())\n",
    "plt.rcParams['figure.figsize'] = [5, 5]\n",
    "plt.rcParams['figure.dpi'] = 100\n",
    "my_color = ['red', 'green']\n",
    "plt.pie( dfp['count'], labels = ['Churn', 'No Churn'], colors=my_color,  autopct='%.1f%%')\n",
    "plt.title(f'Churn User Imbalance')\n",
    "plt.show()"
   ]
  },
  {
   "cell_type": "markdown",
   "metadata": {},
   "source": [
    "<b>Our label distribution is highly skewed</b> with only 23% of users churning vs 77% not churning. Therefore accuracy (% of predicted label as the actual label) is not a good measure of the model performance, as having a simplistic model saying the label always returning \"not churning\", will already have accuracy of 70%.\n",
    "<br>\n",
    "<br><b>The F1 score is much more relevant for our problem</b> as it takes into account the true/false positive and true/false negative to calculate the F1 score.\n",
    "<br>F1 score Wikipedia definition: \"<i>In statistical analysis of binary classification, the F-score or F-measure is a measure of a test's accuracy. It is calculated from the precision and recall of the test, where the precision is the number of true positive results divided by the number of all positive results, including those not identified correctly, and the recall is the number of true positive results divided by the number of all samples that should have been identified as positive. Precision is also known as positive predictive value, and recall is also known as sensitivity in diagnostic binary classification. The F1 score is the harmonic mean of the precision and recall. It thus symmetrically represents both precision and recall in one metric.\"</i>\n",
    "Reference: https://en.wikipedia.org/wiki/F-score\n",
    "<br>\n",
    "<br><b>The Crossvalidator and its parameterGrid</b> will be used to iterate the model and fine tune its parameters: \n",
    "<i>\"K-fold cross validation performs model selection by splitting the dataset into a set of non-overlapping randomly partitioned folds which are used as separate training and test datasets e.g., with k=3 folds, K-fold cross validation will generate 3 (training, test) dataset pairs, each of which uses 2/3 of the data for training and 1/3 for testing. Each fold is used as the test set exactly once.\"\n",
    "</i> Reference: https://spark.apache.org/docs/3.1.1/api/python/reference/api/pyspark.ml.tuning.CrossValidator.html"
   ]
  },
  {
   "cell_type": "markdown",
   "metadata": {},
   "source": [
    "### Class To Fit, Tune & Evaluate Different Classifier Models & F1 Scoring\n",
    "We will create our own reusable generic Python model evaluation class that we can use to train, tune and evaluate the F1 score of those classifier models.\n",
    "The Spark \"CrossValidator\" and \"ParametersGrid\" will be leveraged to search for the optimimal parameters for each classifier.\n",
    "- LogisticRegression\n",
    "- LinearSVC\n",
    "- GBTClassifier\n",
    "- RandomForestClassifier"
   ]
  },
  {
   "cell_type": "code",
   "execution_count": 48,
   "metadata": {},
   "outputs": [],
   "source": [
    "class ModelEvaluator:\n",
    "    \"\"\" Class to fit an ML model classifier on a train dataframe \n",
    "    and tune its parameters using a Crossvalidator and a grid of parameters\n",
    "    based on the model f1 score.\n",
    "    \n",
    "    INPUT: \n",
    "        df_train: dataframe used to train the model\n",
    "        df_test: dataframe used to test the model\n",
    "        modelName: model name\n",
    "        modelClassifier: classifier Model used\n",
    "        paramGrid:  ParamGridBuilder object with the grid parameter to fine the optimum parameters for the model\n",
    "\n",
    "    OUTPUT stored in the object:\n",
    "        trained model\n",
    "        f1Score based on the test dataframe\n",
    "        fittingTime in seconds\n",
    "        bestParameters used in the grid parameters returned by the CrossValidator for the \"best model\"\n",
    "        performance: a dictonary with a summary of the model evaluation\n",
    "            \n",
    "    \"\"\"\n",
    "\n",
    "    \n",
    "    def __init__(self, df_train, df_test, modelName, modelClassifier, paramGrid):\n",
    "        \"\"\" Instantiation of the object \"\"\"\n",
    "        \n",
    "        self.modelName = modelName\n",
    "        self.modelClassifier = modelClassifier\n",
    "        self.paramGrid = paramGrid\n",
    "        self.pipeline =  Pipeline(stages=[self.modelClassifier])\n",
    "        self.crossVal = CrossValidator(estimator=self.pipeline, \\\n",
    "                                 estimatorParamMaps=self.paramGrid, \\\n",
    "                                 evaluator=MulticlassClassificationEvaluator(metricName='f1'), \\\n",
    "                                 numFolds=3,\\\n",
    "                                 parallelism=2,\\\n",
    "                                 seed=42)\n",
    "\n",
    "        # Fit the model and time its fitting\n",
    "        startTime = time.time()\n",
    "        self.model = self.crossVal.fit(df_train)\n",
    "        endTime = time.time()\n",
    "        self.fittingTime = endTime - startTime\n",
    "        self.bestParameters = self.model.bestModel.extractParamMap()\n",
    "                \n",
    "        # Get performance metrics on the model for each parameter combinations on the grid\n",
    "        print(f'\\n###> Model {modelName} ran in {self.fittingTime :1.1f} seconds <###')\n",
    "        \n",
    "        # I note that the model.avgMetrics features varies between the AWS Spark v3.1 vs the Udacity Spark v2.4 platform when running on both.\n",
    "        try:\n",
    "            self.avgTrainMetrics = self.model.avgMetrics\n",
    "            self.f1score_parameters = list(map(list, zip(model.avgTrainMetrics, model.paramGrid))).sort()\n",
    "            print(f'Average F1 Score metrics & Parameters for the TRAIN dataset:\\n{self.f1score_parameters}')\n",
    "            \n",
    "        except:\n",
    "            self.avgTrainMetrics = \"No available in this PySpark version\"\n",
    "            self.f1score_parameters = \"No available in this PySpark version\"\n",
    "        \n",
    "        # Check the model F1 score for the TEST dataset\n",
    "        df_predict = self.model.transform(df_test)\n",
    "        self.evaluator = MulticlassClassificationEvaluator(metricName='f1')\n",
    "        self.f1Score = float(self.evaluator.evaluate(df_predict.select('label', 'prediction')))\n",
    "        print(f'F1 Score for the TEST dataset: {self.f1Score:1.4f}')\n",
    "        \n",
    "        # Get a summary of the fitting/testing result in a nice dictionary\n",
    "        self.performance = {\"classifier_name\":self.modelName, \"Test_f1_score\":self.f1Score, \\\n",
    "                            \"fitting_time\":self.fittingTime, \"parameters\":self.paramGrid, \\\n",
    "                            \"Average_Train_f1_score\":self.avgTrainMetrics}       \n",
    "        \n",
    "        print(self.performance)"
   ]
  },
  {
   "cell_type": "code",
   "execution_count": 49,
   "metadata": {},
   "outputs": [],
   "source": [
    "model_list = []"
   ]
  },
  {
   "cell_type": "markdown",
   "metadata": {},
   "source": [
    "### Log Regression Model\n",
    "Reference: https://spark.apache.org/docs/latest/api/python/reference/api/pyspark.ml.classification.LogisticRegression.html"
   ]
  },
  {
   "cell_type": "code",
   "execution_count": 50,
   "metadata": {},
   "outputs": [
    {
     "name": "stdout",
     "output_type": "stream",
     "text": [
      "\n",
      "###> Model LogRegression ran in 166.1 seconds <###\n",
      "Average F1 Score metrics & Parameters for the TRAIN dataset:\n",
      "No available in this PySpark version\n",
      "F1 Score for the TEST dataset: 0.6389\n",
      "{'classifier_name': 'LogRegression', 'Test_f1_score': 0.6389131066550422, 'fitting_time': 166.14520406723022, 'parameters': [{Param(parent='LogisticRegression_74ccee553dec', name='regParam', doc='regularization parameter (>= 0).'): 0.0, Param(parent='LogisticRegression_74ccee553dec', name='maxIter', doc='max number of iterations (>= 0).'): 2}, {Param(parent='LogisticRegression_74ccee553dec', name='regParam', doc='regularization parameter (>= 0).'): 0.0, Param(parent='LogisticRegression_74ccee553dec', name='maxIter', doc='max number of iterations (>= 0).'): 3}, {Param(parent='LogisticRegression_74ccee553dec', name='regParam', doc='regularization parameter (>= 0).'): 0.1, Param(parent='LogisticRegression_74ccee553dec', name='maxIter', doc='max number of iterations (>= 0).'): 2}, {Param(parent='LogisticRegression_74ccee553dec', name='regParam', doc='regularization parameter (>= 0).'): 0.1, Param(parent='LogisticRegression_74ccee553dec', name='maxIter', doc='max number of iterations (>= 0).'): 3}], 'Average_Train_f1_score': 'No available in this PySpark version'}\n"
     ]
    }
   ],
   "source": [
    "logRegression = LogisticRegression(maxIter=5, regParam=0.0, elasticNetParam=0)\n",
    "paramGrid = ParamGridBuilder() \\\n",
    "    .addGrid(logRegression.regParam, [0.0, 0.1])\\\n",
    "    .addGrid(logRegression.maxIter, [2, 3])\\\n",
    "    .build()\n",
    "\n",
    "model_list.append(ModelEvaluator(train, test, modelName='LogRegression', modelClassifier=logRegression, paramGrid=paramGrid))\n"
   ]
  },
  {
   "cell_type": "markdown",
   "metadata": {},
   "source": [
    "### Linear Support Vector Machine Model\n",
    "Reference: https://spark.apache.org/docs/latest/api/python/reference/api/pyspark.ml.classification.LinearSVC.html"
   ]
  },
  {
   "cell_type": "code",
   "execution_count": 51,
   "metadata": {},
   "outputs": [
    {
     "name": "stdout",
     "output_type": "stream",
     "text": [
      "\n",
      "###> Model linearSVC ran in 310.0 seconds <###\n",
      "Average F1 Score metrics & Parameters for the TRAIN dataset:\n",
      "No available in this PySpark version\n",
      "F1 Score for the TEST dataset: 0.6705\n",
      "{'classifier_name': 'linearSVC', 'Test_f1_score': 0.6705276705276705, 'fitting_time': 309.9888370037079, 'parameters': [{Param(parent='LinearSVC_57be23a8ddc3', name='regParam', doc='regularization parameter (>= 0).'): 0.0}, {Param(parent='LinearSVC_57be23a8ddc3', name='regParam', doc='regularization parameter (>= 0).'): 0.1}], 'Average_Train_f1_score': 'No available in this PySpark version'}\n"
     ]
    }
   ],
   "source": [
    "linSVC = LinearSVC(maxIter=5, regParam=0.0)\n",
    "paramGrid = ParamGridBuilder() \\\n",
    "    .addGrid(linSVC.regParam, [0.0, 0.1]) \\\n",
    "    .build()\n",
    "\n",
    "model_list.append(ModelEvaluator(train, test, modelName='linearSVC', modelClassifier=linSVC, paramGrid=paramGrid))"
   ]
  },
  {
   "cell_type": "markdown",
   "metadata": {},
   "source": [
    "### RandomForestClassifier Model\n",
    "Reference: https://spark.apache.org/docs/latest/api/python/reference/api/pyspark.mllib.tree.RandomForest.html"
   ]
  },
  {
   "cell_type": "code",
   "execution_count": 53,
   "metadata": {},
   "outputs": [
    {
     "name": "stdout",
     "output_type": "stream",
     "text": [
      "\n",
      "###> Model Random Forest ran in 299.3 seconds <###\n",
      "Average F1 Score metrics & Parameters for the TRAIN dataset:\n",
      "No available in this PySpark version\n",
      "F1 Score for the TEST dataset: 0.5800\n",
      "{'classifier_name': 'Random Forest', 'Test_f1_score': 0.58000858000858, 'fitting_time': 299.3133842945099, 'parameters': [{Param(parent='RandomForestClassifier_8c7907f6401b', name='numTrees', doc='Number of trees to train (>= 1).'): 10, Param(parent='RandomForestClassifier_8c7907f6401b', name='maxDepth', doc='Maximum depth of the tree. (>= 0) E.g., depth 0 means 1 leaf node; depth 1 means 1 internal node + 2 leaf nodes.'): 3}, {Param(parent='RandomForestClassifier_8c7907f6401b', name='numTrees', doc='Number of trees to train (>= 1).'): 10, Param(parent='RandomForestClassifier_8c7907f6401b', name='maxDepth', doc='Maximum depth of the tree. (>= 0) E.g., depth 0 means 1 leaf node; depth 1 means 1 internal node + 2 leaf nodes.'): 5}, {Param(parent='RandomForestClassifier_8c7907f6401b', name='numTrees', doc='Number of trees to train (>= 1).'): 15, Param(parent='RandomForestClassifier_8c7907f6401b', name='maxDepth', doc='Maximum depth of the tree. (>= 0) E.g., depth 0 means 1 leaf node; depth 1 means 1 internal node + 2 leaf nodes.'): 3}, {Param(parent='RandomForestClassifier_8c7907f6401b', name='numTrees', doc='Number of trees to train (>= 1).'): 15, Param(parent='RandomForestClassifier_8c7907f6401b', name='maxDepth', doc='Maximum depth of the tree. (>= 0) E.g., depth 0 means 1 leaf node; depth 1 means 1 internal node + 2 leaf nodes.'): 5}], 'Average_Train_f1_score': 'No available in this PySpark version'}\n"
     ]
    }
   ],
   "source": [
    "randomForest = RandomForestClassifier(numTrees=10, maxDepth=5)\n",
    "paramGrid = ParamGridBuilder() \\\n",
    "    .addGrid(randomForest.numTrees, [10, 15]) \\\n",
    "    .addGrid(randomForest.maxDepth, [3, 5]) \\\n",
    "    .build()\n",
    "\n",
    "model_list.append(ModelEvaluator(train, test, modelName='Random Forest', modelClassifier=randomForest, paramGrid=paramGrid))"
   ]
  },
  {
   "cell_type": "markdown",
   "metadata": {},
   "source": [
    "### Gradient Boost Trees Model\n",
    "Reference: https://spark.apache.org/docs/latest/api/python/reference/api/pyspark.ml.classification.GBTClassifier.html"
   ]
  },
  {
   "cell_type": "code",
   "execution_count": 54,
   "metadata": {},
   "outputs": [
    {
     "name": "stdout",
     "output_type": "stream",
     "text": [
      "\n",
      "###> Model Gradient Boost Tree ran in 574.8 seconds <###\n",
      "Average F1 Score metrics & Parameters for the TRAIN dataset:\n",
      "No available in this PySpark version\n",
      "F1 Score for the TEST dataset: 0.8629\n",
      "{'classifier_name': 'Gradient Boost Tree', 'Test_f1_score': 0.8629222214127874, 'fitting_time': 574.7701890468597, 'parameters': [{Param(parent='GBTClassifier_bdec4c6307cf', name='maxDepth', doc='Maximum depth of the tree. (>= 0) E.g., depth 0 means 1 leaf node; depth 1 means 1 internal node + 2 leaf nodes.'): 10}, {Param(parent='GBTClassifier_bdec4c6307cf', name='maxDepth', doc='Maximum depth of the tree. (>= 0) E.g., depth 0 means 1 leaf node; depth 1 means 1 internal node + 2 leaf nodes.'): 15}], 'Average_Train_f1_score': 'No available in this PySpark version'}\n"
     ]
    }
   ],
   "source": [
    "gbt = GBTClassifier(maxIter=5, maxDepth=2)\n",
    "paramGrid = ParamGridBuilder() \\\n",
    "    .addGrid(gbt.maxDepth, [10, 15]) \\\n",
    "    .build()\n",
    "\n",
    "model_list.append(ModelEvaluator(train, test, modelName='Gradient Boost Tree', modelClassifier=gbt, paramGrid=paramGrid))"
   ]
  },
  {
   "cell_type": "markdown",
   "metadata": {},
   "source": [
    "### Lets Compare Our Classifier models \n",
    "Bringing all models key collected data as dictionary to a dataframe table to easily compare each model and review their parameters."
   ]
  },
  {
   "cell_type": "code",
   "execution_count": 58,
   "metadata": {},
   "outputs": [],
   "source": [
    "from IPython.display import display, HTML"
   ]
  },
  {
   "cell_type": "code",
   "execution_count": 61,
   "metadata": {
    "tags": []
   },
   "outputs": [
    {
     "data": {
      "text/html": [
       "<div>\n",
       "<style scoped>\n",
       "    .dataframe tbody tr th:only-of-type {\n",
       "        vertical-align: middle;\n",
       "    }\n",
       "\n",
       "    .dataframe tbody tr th {\n",
       "        vertical-align: top;\n",
       "    }\n",
       "\n",
       "    .dataframe thead th {\n",
       "        text-align: right;\n",
       "    }\n",
       "</style>\n",
       "<table border=\"1\" class=\"dataframe\">\n",
       "  <thead>\n",
       "    <tr style=\"text-align: right;\">\n",
       "      <th></th>\n",
       "      <th>classifier_name</th>\n",
       "      <th>Test_f1_score</th>\n",
       "      <th>fitting_time</th>\n",
       "      <th>parameters</th>\n",
       "    </tr>\n",
       "  </thead>\n",
       "  <tbody>\n",
       "    <tr>\n",
       "      <th>0</th>\n",
       "      <td>LogRegression</td>\n",
       "      <td>0.638913</td>\n",
       "      <td>166.145204</td>\n",
       "      <td>[{LogisticRegression_74ccee553dec__regParam: 0...</td>\n",
       "    </tr>\n",
       "    <tr>\n",
       "      <th>1</th>\n",
       "      <td>linearSVC</td>\n",
       "      <td>0.670528</td>\n",
       "      <td>309.988837</td>\n",
       "      <td>[{LinearSVC_57be23a8ddc3__regParam: 0.0}, {Lin...</td>\n",
       "    </tr>\n",
       "    <tr>\n",
       "      <th>2</th>\n",
       "      <td>Random Forest</td>\n",
       "      <td>0.580009</td>\n",
       "      <td>299.313384</td>\n",
       "      <td>[{RandomForestClassifier_8c7907f6401b__numTree...</td>\n",
       "    </tr>\n",
       "    <tr>\n",
       "      <th>3</th>\n",
       "      <td>Gradient Boost Tree</td>\n",
       "      <td>0.862922</td>\n",
       "      <td>574.770189</td>\n",
       "      <td>[{GBTClassifier_bdec4c6307cf__maxDepth: 10}, {...</td>\n",
       "    </tr>\n",
       "  </tbody>\n",
       "</table>\n",
       "</div>"
      ],
      "text/plain": [
       "       classifier_name  Test_f1_score  fitting_time  \\\n",
       "0        LogRegression       0.638913    166.145204   \n",
       "1            linearSVC       0.670528    309.988837   \n",
       "2        Random Forest       0.580009    299.313384   \n",
       "3  Gradient Boost Tree       0.862922    574.770189   \n",
       "\n",
       "                                          parameters  \n",
       "0  [{LogisticRegression_74ccee553dec__regParam: 0...  \n",
       "1  [{LinearSVC_57be23a8ddc3__regParam: 0.0}, {Lin...  \n",
       "2  [{RandomForestClassifier_8c7907f6401b__numTree...  \n",
       "3  [{GBTClassifier_bdec4c6307cf__maxDepth: 10}, {...  "
      ]
     },
     "metadata": {},
     "output_type": "display_data"
    }
   ],
   "source": [
    "df = pd.DataFrame.from_records([model.performance for model in model_list])\n",
    "display(df[['classifier_name', 'Test_f1_score', \"fitting_time\", \"parameters\"]])"
   ]
  },
  {
   "cell_type": "markdown",
   "metadata": {},
   "source": [
    "The hereunder scatter plot compares each model on 2 dimensions: y_axis=f1_score vs x_axis=fitting_time. \n",
    "<br><b>Conclusion:</b>The Gradient Boost Tree is clearly the highest F1 score, but also much longer to calculate.\n",
    "<br>Reference: https://matplotlib.org/stable/api/_as_gen/matplotlib.pyplot.scatter.html"
   ]
  },
  {
   "cell_type": "code",
   "execution_count": 62,
   "metadata": {},
   "outputs": [
    {
     "data": {
      "image/png": "[encoded data removed]",
      "text/plain": [
       "<Figure size 1000x500 with 1 Axes>"
      ]
     },
     "metadata": {
      "needs_background": "light"
     },
     "output_type": "display_data"
    }
   ],
   "source": [
    "# Lets visualize\n",
    "fig, ax = plt.subplots(figsize=(10,5)) \n",
    "ax.set_facecolor(\"lavender\")\n",
    "df.plot.scatter(x = 'fitting_time', y = 'Test_f1_score', ax = ax, color='magenta', s=100) \n",
    "plt.title('Comparison of F1-Score and Fitting Time Between Classifier Models')\n",
    "# Annotate each data point\n",
    "for i, name in enumerate(df.classifier_name):\n",
    "    x = df.fitting_time.iat[i]\n",
    "    y = df.Test_f1_score.iat[i]\n",
    "    ax.annotate(f'{name}\\n({x:1.0f}sec, f1={y:1.4f})', (x + 0.05, y))\n",
    "plt.grid()\n",
    "plt.show()"
   ]
  },
  {
   "cell_type": "markdown",
   "metadata": {
    "tags": []
   },
   "source": [
    "# How to further enhance the model?\n",
    "The model could test more advanced features and see if they help to enhance the score. Some examples:  \n",
    "<lt>\n",
    "<li>Profile the user with a vector count of songs and artists played\n",
    "</li><li>% of the full lenght song played\n",
    "</li><li>Pattern of usage by hours of day, day of week or day of month\n",
    "</li><li>Daily frequency of events and related moving average the last 2 weeks or other duration.\n",
    "</li><li>Etc.\n",
    "</li></lt>\n",
    "<br>The model could also be optimized by using PCA or other techniques to reduce the dimensionality and also features not adding to the score."
   ]
  },
  {
   "cell_type": "markdown",
   "metadata": {
    "tags": []
   },
   "source": [
    "# 5.Final Steps\n",
    "Clean up your code, adding comments and renaming variables to make the code easier to read and maintain. Refer to the Spark Project Overview page and Data Scientist Capstone Project Rubric to make sure you are including all components of the capstone project and meet all expectations. Remember, this includes thorough documentation in a README file in a Github repository, as well as a web app or blog post."
   ]
  }
 ],
 "metadata": {
  "kernelspec": {
   "display_name": "Python 3",
   "language": "python",
   "name": "python3"
  },
  "language_info": {
   "codemirror_mode": {
    "name": "ipython",
    "version": 3
   },
   "file_extension": ".py",
   "mimetype": "text/x-python",
   "name": "python",
   "nbconvert_exporter": "python",
   "pygments_lexer": "ipython3",
   "version": "3.7.15"
  }
 },
 "nbformat": 4,
 "nbformat_minor": 4
}
